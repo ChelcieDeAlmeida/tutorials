{
 "cells": [
  {
   "cell_type": "markdown",
   "metadata": {},
   "source": [
    "# Loading text files\n",
    "\n",
    "`fugue` can read text files natively via `load` or by dropping into an execution engine\n",
    "\n",
    "You might find it useful to use the execution engine directly for loading non-standard files or files that are not natively supported by `fugue`.  \n",
    "\n",
    "We'll demonstrate `pandas`, `duckdb` & `dask` here"
   ]
  },
  {
   "cell_type": "markdown",
   "metadata": {},
   "source": [
    "Here's an example where the headers are on the 2nd line & the data starts on the 5th:"
   ]
  },
  {
   "cell_type": "markdown",
   "metadata": {},
   "source": [
    "\"SITENAME\"\n",
    "\"TIMESTAMP\",\"RECORD\",\"WS_80m_90deg_Avg\",\"WS_80m_90deg_Std\",\"WS_80m_90deg_3sGust_Max\",\"WS_80m_90deg_Max\",\"WS_80m_270deg_Avg\",\"WS_80m_270deg_Std\",\"WS_80m_270deg_3sGust_Max\",\"WS_80m_270deg_Max\",\"WS_65m_90deg_Avg\",\"WS_65m_90deg_Std\",\"WS_65m_90deg_3sGust_Max\",\"WS_65m_90deg_Max\",\"WS_65m_270deg_Avg\",\"WS_65m_270deg_Std\",\"WS_65m_270deg_3sGust_Max\",\"WS_65m_270deg_Max\",\"WS_50m_90deg_Avg\",\"WS_50m_90deg_Std\",\"WS_50m_90deg_3sGust_Max\",\"WS_50m_90deg_Max\",\"WS_50m_270deg_Avg\",\"WS_50m_270deg_Std\",\"WS_50m_270deg_3sGust_Max\",\"WS_50m_270deg_Max\",\"WS_30m_90deg_Avg\",\"WS_30m_90deg_Std\",\"WS_30m_90deg_3sGust_Max\",\"WS_30m_90deg_Max\",\"WS_30m_270deg_Avg\",\"WS_30m_270deg_Std\",\"WS_30m_270deg_3sGust_Max\",\"WS_30m_270deg_Max\",\"Dir_78m_90deg_avg\",\"Dir_78m_90deg_std\",\"Dir_63m_90deg_avg\",\"Dir_63m_90deg_std\",\"Dir_28m_90deg_avg\",\"Dir_28m_90deg_std\",\"Batt_Volt_Min\",\"Press_Avg\",\"Temp_C80_Avg\",\"Temp_C15_Avg\",\"Hum_Avg\"\n",
    "\"TS\",\"RN\",\"meters/second\",\"meters/second\",\"\",\"meters/second\",\"meters/second\",\"meters/second\",\"\",\"meters/second\",\"meters/second\",\"meters/second\",\"\",\"meters/second\",\"meters/second\",\"meters/second\",\"\",\"meters/second\",\"meters/second\",\"meters/second\",\"\",\"meters/second\",\"meters/second\",\"meters/second\",\"\",\"meters/second\",\"meters/second\",\"meters/second\",\"\",\"meters/second\",\"meters/second\",\"meters/second\",\"\",\"meters/second\",\"meters/second\",\"meters/second\",\"meters/second\",\"meters/second\",\"meters/second\",\"meters/second\",\"Volts\",\"mB\",\"DegC\",\"DegC\",\"%\"\n",
    "\"\",\"\",\"Avg\",\"Std\",\"Max\",\"Max\",\"Avg\",\"Std\",\"Max\",\"Max\",\"Avg\",\"Std\",\"Max\",\"Max\",\"Avg\",\"Std\",\"Max\",\"Max\",\"Avg\",\"Std\",\"Max\",\"Max\",\"Avg\",\"Std\",\"Max\",\"Max\",\"Avg\",\"Std\",\"Max\",\"Max\",\"Avg\",\"Std\",\"Max\",\"Max\",\"WVc\",\"WVc\",\"WVc\",\"WVc\",\"WVc\",\"WVc\",\"Min\",\"Avg\",\"Avg\",\"Avg\",\"Avg\"\n",
    "\"2012-05-31 12:20:00\",1,1.383,0.6,2.75,3.37,1.368,0.439,2.673,2.74,1.332,0.478,2.75,2.75,1.242,0.379,2.74,2.79,1.162,0.535,2.337,2.75,1.159,0.354,2.34,2.39,1.27,0.614,2.337,2.75,1.322,0.416,2.157,2.24,240.3,46,242,45.39,222,33.45,13.79,1009,13.84,14.08,65.67\n",
    "\"2012-05-31 12:30:00\",2,1.183,0.449,1.923,2.13,1.135,0.324,1.94,1.99,0.948,0.524,1.923,2.13,1.068,0.303,1.723,1.74,0.701,0.547,1.923,2.13,0.913,0.308,1.673,1.74,0.771,0.539,1.717,2.13,0.997,0.28,1.657,1.74,282,26.79,264.3,30.25,278.5,62.87,13.73,1009,14.04,14.45,64.51"
   ]
  },
  {
   "cell_type": "markdown",
   "metadata": {},
   "source": [
    "To read it we'll need to create a custom `Creator` in `fugue`!"
   ]
  },
  {
   "cell_type": "code",
   "execution_count": null,
   "metadata": {},
   "outputs": [],
   "source": [
    "import os\n",
    "import typing\n",
    "\n",
    "import duckdb\n",
    "from fugue import DataFrame\n",
    "from fugue import ExecutionEngine\n",
    "from fugue import FugueWorkflow\n",
    "from fugue import NativeExecutionEngine\n",
    "from fugue_dask import DaskExecutionEngine\n",
    "from fugue_duckdb import DuckExecutionEngine\n",
    "import pandas as pd"
   ]
  },
  {
   "cell_type": "markdown",
   "metadata": {},
   "source": [
    "## Standard text files"
   ]
  },
  {
   "cell_type": "markdown",
   "metadata": {},
   "source": [
    "First let's create a sample `standard` text file ..."
   ]
  },
  {
   "cell_type": "code",
   "execution_count": null,
   "metadata": {},
   "outputs": [],
   "source": [
    "content = \"\"\"\\\n",
    "a,b,c\n",
    "1,2,3\n",
    "1,2,3\"\"\""
   ]
  },
  {
   "cell_type": "markdown",
   "metadata": {},
   "source": [
    "We can read it natively"
   ]
  },
  {
   "cell_type": "code",
   "execution_count": null,
   "metadata": {},
   "outputs": [
    {
     "name": "stdout",
     "output_type": "stream",
     "text": [
      "PandasDataFrame\n",
      "a:str|b:str|c:str\n",
      "-----+-----+-----\n",
      "1    |2    |3    \n",
      "1    |2    |3    \n",
      "Total count: 2\n",
      "\n"
     ]
    }
   ],
   "source": [
    "file = \"/tmp/fugue_example_std_1.csv\"\n",
    "with open(file, \"w\") as f:\n",
    "    f.write(content)\n",
    "\n",
    "with FugueWorkflow() as dag:\n",
    "    df = dag.load(file, header=True)\n",
    "    df.show()\n",
    "\n",
    "os.unlink(file)"
   ]
  },
  {
   "cell_type": "markdown",
   "metadata": {},
   "source": [
    "We can read multiple files using a wildcard `*` "
   ]
  },
  {
   "cell_type": "code",
   "execution_count": null,
   "metadata": {},
   "outputs": [
    {
     "name": "stdout",
     "output_type": "stream",
     "text": [
      "PandasDataFrame\n",
      "a:str|b:str|c:str\n",
      "-----+-----+-----\n",
      "1    |2    |3    \n",
      "1    |2    |3    \n",
      "1    |2    |3    \n",
      "1    |2    |3    \n",
      "Total count: 4\n",
      "\n"
     ]
    }
   ],
   "source": [
    "file_1 = \"/tmp/fugue_example_std_2.csv\"\n",
    "file_2 = \"/tmp/fugue_example_std_3.csv\"\n",
    "with open(file_1, \"w\") as f1, open(file_2, \"w\") as f2:\n",
    "    f1.write(content)\n",
    "    f2.write(content)\n",
    "wildcard = \"/tmp/fugue_example_std_*.csv\"\n",
    "\n",
    "with FugueWorkflow() as dag:\n",
    "    df = dag.load(wildcard, header=True)\n",
    "    df.show()\n",
    "\n",
    "os.unlink(file_1)\n",
    "os.unlink(file_2)"
   ]
  },
  {
   "cell_type": "markdown",
   "metadata": {},
   "source": [
    "## Non-standard text files\n",
    "\n",
    "Or, if your input file is non-standard, we can use the execution engine directly "
   ]
  },
  {
   "cell_type": "code",
   "execution_count": null,
   "metadata": {},
   "outputs": [],
   "source": [
    "content = '''\\\n",
    "\"SITENAME\"\n",
    "\"TIMESTAMP\",\"RECORD\",\"WS_80m_90deg_Avg\",\"WS_80m_90deg_Std\",\"WS_80m_90deg_3sGust_Max\",\"WS_80m_90deg_Max\",\"WS_80m_270deg_Avg\",\"WS_80m_270deg_Std\",\"WS_80m_270deg_3sGust_Max\",\"WS_80m_270deg_Max\",\"WS_65m_90deg_Avg\",\"WS_65m_90deg_Std\",\"WS_65m_90deg_3sGust_Max\",\"WS_65m_90deg_Max\",\"WS_65m_270deg_Avg\",\"WS_65m_270deg_Std\",\"WS_65m_270deg_3sGust_Max\",\"WS_65m_270deg_Max\",\"WS_50m_90deg_Avg\",\"WS_50m_90deg_Std\",\"WS_50m_90deg_3sGust_Max\",\"WS_50m_90deg_Max\",\"WS_50m_270deg_Avg\",\"WS_50m_270deg_Std\",\"WS_50m_270deg_3sGust_Max\",\"WS_50m_270deg_Max\",\"WS_30m_90deg_Avg\",\"WS_30m_90deg_Std\",\"WS_30m_90deg_3sGust_Max\",\"WS_30m_90deg_Max\",\"WS_30m_270deg_Avg\",\"WS_30m_270deg_Std\",\"WS_30m_270deg_3sGust_Max\",\"WS_30m_270deg_Max\",\"Dir_78m_90deg_avg\",\"Dir_78m_90deg_std\",\"Dir_63m_90deg_avg\",\"Dir_63m_90deg_std\",\"Dir_28m_90deg_avg\",\"Dir_28m_90deg_std\",\"Batt_Volt_Min\",\"Press_Avg\",\"Temp_C80_Avg\",\"Temp_C15_Avg\",\"Hum_Avg\"\n",
    "\"TS\",\"RN\",\"meters/second\",\"meters/second\",\"\",\"meters/second\",\"meters/second\",\"meters/second\",\"\",\"meters/second\",\"meters/second\",\"meters/second\",\"\",\"meters/second\",\"meters/second\",\"meters/second\",\"\",\"meters/second\",\"meters/second\",\"meters/second\",\"\",\"meters/second\",\"meters/second\",\"meters/second\",\"\",\"meters/second\",\"meters/second\",\"meters/second\",\"\",\"meters/second\",\"meters/second\",\"meters/second\",\"\",\"meters/second\",\"meters/second\",\"meters/second\",\"meters/second\",\"meters/second\",\"meters/second\",\"meters/second\",\"Volts\",\"mB\",\"DegC\",\"DegC\",\"%\"\n",
    "\"\",\"\",\"Avg\",\"Std\",\"Max\",\"Max\",\"Avg\",\"Std\",\"Max\",\"Max\",\"Avg\",\"Std\",\"Max\",\"Max\",\"Avg\",\"Std\",\"Max\",\"Max\",\"Avg\",\"Std\",\"Max\",\"Max\",\"Avg\",\"Std\",\"Max\",\"Max\",\"Avg\",\"Std\",\"Max\",\"Max\",\"Avg\",\"Std\",\"Max\",\"Max\",\"WVc\",\"WVc\",\"WVc\",\"WVc\",\"WVc\",\"WVc\",\"Min\",\"Avg\",\"Avg\",\"Avg\",\"Avg\"\n",
    "\"2012-05-31 12:20:00\",1,1.383,0.6,2.75,3.37,1.368,0.439,2.673,2.74,1.332,0.478,2.75,2.75,1.242,0.379,2.74,2.79,1.162,0.535,2.337,2.75,1.159,0.354,2.34,2.39,1.27,0.614,2.337,2.75,1.322,0.416,2.157,2.24,240.3,46,242,45.39,222,33.45,13.79,1009,13.84,14.08,65.67\n",
    "\"2012-05-31 12:30:00\",2,1.183,0.449,1.923,2.13,1.135,0.324,1.94,1.99,0.948,0.524,1.923,2.13,1.068,0.303,1.723,1.74,0.701,0.547,1.923,2.13,0.913,0.308,1.673,1.74,0.771,0.539,1.717,2.13,0.997,0.28,1.657,1.74,282,26.79,264.3,30.25,278.5,62.87,13.73,1009,14.04,14.45,64.51\n",
    "'''"
   ]
  },
  {
   "cell_type": "markdown",
   "metadata": {},
   "source": [
    "Let's read the headers on the 2nd line separately to loading the text file "
   ]
  },
  {
   "cell_type": "code",
   "execution_count": null,
   "metadata": {},
   "outputs": [],
   "source": [
    "def read_header(filepath: str) -> typing.List[str]:\n",
    "    row_1 = pd.read_csv(filepath, skiprows=1, nrows=0).columns\n",
    "    header = [row_1[0].replace(\"columns: \", \"\"), *row_1[1:]]\n",
    "    return header"
   ]
  },
  {
   "cell_type": "markdown",
   "metadata": {},
   "source": [
    "& specify these headers as the column names of the data that we are loading in\n",
    "\n",
    "> **Note:** `skip` & `columns` for `DuckExecutionEngine` correspond to `skiprows` & `names` for `pandas.read_csv` as `duckdb` `csv` has different conventions  "
   ]
  },
  {
   "cell_type": "code",
   "execution_count": null,
   "metadata": {},
   "outputs": [],
   "source": [
    "def read_text_file(engine: ExecutionEngine, filepath: str) -> DataFrame:\n",
    "    headers = read_header(filepath)\n",
    "    if isinstance(engine, NativeExecutionEngine):\n",
    "        # load_df uses pandas.read_csv\n",
    "        df = engine.load_df(filepath, infer_schema=True, header=True, skiprows=3, names=headers)\n",
    "    elif isinstance(engine, DuckExecutionEngine):\n",
    "        # load_df uses duckdb read_csv_auto\n",
    "        df = engine.load_df(filepath, infer_schema=True, skip=4, columns=headers)\n",
    "    elif isinstance(engine, DaskExecutionEngine):\n",
    "        # load_df uses dask.dataframe.read_csv\n",
    "        df = engine.load_df(filepath, infer_schema=True, header=True, skiprows=3, names=headers)\n",
    "    else:\n",
    "        supported_engines = {NativeExecutionEngine, DuckExecutionEngine, DaskExecutionEngine}   \n",
    "        raise ValueError(f\"Engine {engine} is not supported, must be one of {supported_engines}\")\n",
    "    return df"
   ]
  },
  {
   "cell_type": "code",
   "execution_count": null,
   "metadata": {},
   "outputs": [
    {
     "data": {
      "text/html": [
       "<!-- Disable line wrapping in output -->\n",
       "<style>\n",
       "div.output_area pre {\n",
       "    white-space: pre;\n",
       "}\n",
       "</style>\n"
      ],
      "text/plain": [
       "<IPython.core.display.HTML object>"
      ]
     },
     "metadata": {},
     "output_type": "display_data"
    }
   ],
   "source": [
    "%%html\n",
    "<!-- Disable line wrapping in output -->\n",
    "<style>\n",
    "div.output_area pre {\n",
    "    white-space: pre;\n",
    "}\n",
    "</style>"
   ]
  },
  {
   "cell_type": "code",
   "execution_count": null,
   "metadata": {},
   "outputs": [
    {
     "name": "stdout",
     "output_type": "stream",
     "text": [
      "PandasDataFrame\n",
      "TIMESTAMP:str |RECORD:long|WS_80m_90deg_Avg:double|WS_80m_90deg_Std:double|WS_80m_90deg_3sGust_Max:double|WS_80m_90deg_Max:double|WS_80m_270deg_Avg:double|WS_80m_270deg_Std:double|WS_80m_270deg_3sGust_Max:double|WS_80m_270deg_Max:double|WS_65m_90deg_Avg:double|WS_65m_90deg_Std:double|WS_65m_90deg_3sGust_Max:double|WS_65m_90deg_Max:double|WS_65m_270deg_Avg:double|WS_65m_270deg_Std:double|WS_65m_270deg_3sGust_Max:double|WS_65m_270deg_Max:double|WS_50m_90deg_Avg:double|WS_50m_90deg_Std:double|WS_50m_90deg_3sGust_Max:double|WS_50m_90deg_Max:double|WS_50m_270deg_Avg:double|WS_50m_270deg_Std:double|WS_50m_270deg_3sGust_Max:double|WS_50m_270deg_Max:double|WS_30m_90deg_Avg:double|WS_30m_90deg_Std:double|WS_30m_90deg_3sGust_Max:double|WS_30m_90deg_Max:double|WS_30m_270deg_Avg:double|WS_30m_270deg_Std:double|WS_30m_270deg_3sGust_Max:double|WS_30m_270deg_Max:double|Dir_78m_90deg_avg:double|Dir_78m_90deg_std:double|Dir_63m_90deg_avg:double|Dir_63m_90deg_std:double|Dir_28m_90deg_avg:double|Dir_28m_90deg_std:double|Batt_Volt_Min:double|Press_Avg:long|Temp_C80_Avg:double|Temp_C15_Avg:double|Hum_Avg:double\n",
      "--------------+-----------+-----------------------+-----------------------+------------------------------+-----------------------+------------------------+------------------------+-------------------------------+------------------------+-----------------------+-----------------------+------------------------------+-----------------------+------------------------+------------------------+-------------------------------+------------------------+-----------------------+-----------------------+------------------------------+-----------------------+------------------------+------------------------+-------------------------------+------------------------+-----------------------+-----------------------+------------------------------+-----------------------+------------------------+------------------------+-------------------------------+------------------------+------------------------+------------------------+------------------------+------------------------+------------------------+------------------------+--------------------+--------------+-------------------+-------------------+--------------\n",
      "2012-05-31 12:|1          |1.383                  |0.6                    |2.75                          |3.37                   |1.368                   |0.439                   |2.673                          |2.74                    |1.332                  |0.478                  |2.75                          |2.75                   |1.242                   |0.379                   |2.74                           |2.79                    |1.162                  |0.535                  |2.337                         |2.75                   |1.159                   |0.354                   |2.34                           |2.39                    |1.27                   |0.614                  |2.337                         |2.75                   |1.322                   |0.416                   |2.157                          |2.24                    |240.3                   |46.0                    |242.0                   |45.39                   |222.0                   |33.45                   |13.79               |1009          |13.84              |14.08              |65.67         \n",
      "20:00         |           |                       |                       |                              |                       |                        |                        |                               |                        |                       |                       |                              |                       |                        |                        |                               |                        |                       |                       |                              |                       |                        |                        |                               |                        |                       |                       |                              |                       |                        |                        |                               |                        |                        |                        |                        |                        |                        |                        |                    |              |                   |                   |              \n",
      "2012-05-31 12:|2          |1.183                  |0.449                  |1.923                         |2.13                   |1.135                   |0.324                   |1.94                           |1.99                    |0.948                  |0.524                  |1.923                         |2.13                   |1.068                   |0.303                   |1.723                          |1.74                    |0.701                  |0.547                  |1.923                         |2.13                   |0.913                   |0.308                   |1.673                          |1.74                    |0.771                  |0.539                  |1.717                         |2.13                   |0.997                   |0.28                    |1.657                          |1.74                    |282.0                   |26.79                   |264.3                   |30.25                   |278.5                   |62.87                   |13.73               |1009          |14.04              |14.45              |64.51         \n",
      "30:00         |           |                       |                       |                              |                       |                        |                        |                               |                        |                       |                       |                              |                       |                        |                        |                               |                        |                       |                       |                              |                       |                        |                        |                               |                        |                       |                       |                              |                       |                        |                        |                               |                        |                        |                        |                        |                        |                        |                        |                    |              |                   |                   |              \n",
      "Total count: 2\n",
      "\n",
      "DuckDataFrame\n",
      "timestamp:datetime |RECORD:int|WS_80m_90deg_Avg:double|WS_80m_90deg_Std:double|WS_80m_90deg_3sGust_Max:double|WS_80m_90deg_Max:double|WS_80m_270deg_Avg:double|WS_80m_270deg_Std:double|WS_80m_270deg_3sGust_Max:double|WS_80m_270deg_Max:double|WS_65m_90deg_Avg:double|WS_65m_90deg_Std:double|WS_65m_90deg_3sGust_Max:double|WS_65m_90deg_Max:double|WS_65m_270deg_Avg:double|WS_65m_270deg_Std:double|WS_65m_270deg_3sGust_Max:double|WS_65m_270deg_Max:double|WS_50m_90deg_Avg:double|WS_50m_90deg_Std:double|WS_50m_90deg_3sGust_Max:double|WS_50m_90deg_Max:double|WS_50m_270deg_Avg:double|WS_50m_270deg_Std:double|WS_50m_270deg_3sGust_Max:double|WS_50m_270deg_Max:double|WS_30m_90deg_Avg:double|WS_30m_90deg_Std:double|WS_30m_90deg_3sGust_Max:double|WS_30m_90deg_Max:double|WS_30m_270deg_Avg:double|WS_30m_270deg_Std:double|WS_30m_270deg_3sGust_Max:double|WS_30m_270deg_Max:double|Dir_78m_90deg_avg:int|Dir_78m_90deg_std:double|Dir_63m_90deg_avg:double|Dir_63m_90deg_std:double|Dir_28m_90deg_avg:double|Dir_28m_90deg_std:double|Batt_Volt_Min:double|Press_Avg:int|Temp_C80_Avg:double|Temp_C15_Avg:double|Hum_Avg:double\n",
      "-------------------+----------+-----------------------+-----------------------+------------------------------+-----------------------+------------------------+------------------------+-------------------------------+------------------------+-----------------------+-----------------------+------------------------------+-----------------------+------------------------+------------------------+-------------------------------+------------------------+-----------------------+-----------------------+------------------------------+-----------------------+------------------------+------------------------+-------------------------------+------------------------+-----------------------+-----------------------+------------------------------+-----------------------+------------------------+------------------------+-------------------------------+------------------------+---------------------+------------------------+------------------------+------------------------+------------------------+------------------------+--------------------+-------------+-------------------+-------------------+--------------\n",
      "2012-05-31 12:20:00|1         |1.383                  |0.6                    |2.75                          |3.37                   |1.368                   |0.439                   |2.673                          |2.74                    |1.332                  |0.478                  |2.75                          |2.75                   |1.242                   |0.379                   |2.74                           |2.79                    |1.162                  |0.535                  |2.337                         |2.75                   |1.159                   |0.354                   |2.34                           |2.39                    |1.27                   |0.614                  |2.337                         |2.75                   |1.322                   |0.416                   |2.157                          |2.24                    |240                  |46.0                    |242.0                   |45.39                   |222.0                   |33.45                   |13.79               |1009         |13.84              |14.08              |65.67         \n",
      "2012-05-31 12:30:00|2         |1.183                  |0.449                  |1.923                         |2.13                   |1.135                   |0.324                   |1.94                           |1.99                    |0.948                  |0.524                  |1.923                         |2.13                   |1.068                   |0.303                   |1.723                          |1.74                    |0.701                  |0.547                  |1.923                         |2.13                   |0.913                   |0.308                   |1.673                          |1.74                    |0.771                  |0.539                  |1.717                         |2.13                   |0.997                   |0.28                    |1.657                          |1.74                    |282                  |26.79                   |264.3                   |30.25                   |278.5                   |62.87                   |13.73               |1009         |14.04              |14.45              |64.51         \n",
      "Total count: 2\n",
      "\n"
     ]
    },
    {
     "name": "stdout",
     "output_type": "stream",
     "text": [
      "DaskDataFrame\n",
      "TIMESTAMP:str |RECORD:long|WS_80m_90deg_Avg:double|WS_80m_90deg_Std:double|WS_80m_90deg_3sGust_Max:double|WS_80m_90deg_Max:double|WS_80m_270deg_Avg:double|WS_80m_270deg_Std:double|WS_80m_270deg_3sGust_Max:double|WS_80m_270deg_Max:double|WS_65m_90deg_Avg:double|WS_65m_90deg_Std:double|WS_65m_90deg_3sGust_Max:double|WS_65m_90deg_Max:double|WS_65m_270deg_Avg:double|WS_65m_270deg_Std:double|WS_65m_270deg_3sGust_Max:double|WS_65m_270deg_Max:double|WS_50m_90deg_Avg:double|WS_50m_90deg_Std:double|WS_50m_90deg_3sGust_Max:double|WS_50m_90deg_Max:double|WS_50m_270deg_Avg:double|WS_50m_270deg_Std:double|WS_50m_270deg_3sGust_Max:double|WS_50m_270deg_Max:double|WS_30m_90deg_Avg:double|WS_30m_90deg_Std:double|WS_30m_90deg_3sGust_Max:double|WS_30m_90deg_Max:double|WS_30m_270deg_Avg:double|WS_30m_270deg_Std:double|WS_30m_270deg_3sGust_Max:double|WS_30m_270deg_Max:double|Dir_78m_90deg_avg:double|Dir_78m_90deg_std:double|Dir_63m_90deg_avg:double|Dir_63m_90deg_std:double|Dir_28m_90deg_avg:double|Dir_28m_90deg_std:double|Batt_Volt_Min:double|Press_Avg:long|Temp_C80_Avg:double|Temp_C15_Avg:double|Hum_Avg:double\n",
      "--------------+-----------+-----------------------+-----------------------+------------------------------+-----------------------+------------------------+------------------------+-------------------------------+------------------------+-----------------------+-----------------------+------------------------------+-----------------------+------------------------+------------------------+-------------------------------+------------------------+-----------------------+-----------------------+------------------------------+-----------------------+------------------------+------------------------+-------------------------------+------------------------+-----------------------+-----------------------+------------------------------+-----------------------+------------------------+------------------------+-------------------------------+------------------------+------------------------+------------------------+------------------------+------------------------+------------------------+------------------------+--------------------+--------------+-------------------+-------------------+--------------\n",
      "2012-05-31 12:|1          |1.383                  |0.6                    |2.75                          |3.37                   |1.368                   |0.439                   |2.673                          |2.74                    |1.332                  |0.478                  |2.75                          |2.75                   |1.242                   |0.379                   |2.74                           |2.79                    |1.162                  |0.535                  |2.337                         |2.75                   |1.159                   |0.354                   |2.34                           |2.39                    |1.27                   |0.614                  |2.337                         |2.75                   |1.322                   |0.416                   |2.157                          |2.24                    |240.3                   |46.0                    |242.0                   |45.39                   |222.0                   |33.45                   |13.79               |1009          |13.84              |14.08              |65.67         \n",
      "20:00         |           |                       |                       |                              |                       |                        |                        |                               |                        |                       |                       |                              |                       |                        |                        |                               |                        |                       |                       |                              |                       |                        |                        |                               |                        |                       |                       |                              |                       |                        |                        |                               |                        |                        |                        |                        |                        |                        |                        |                    |              |                   |                   |              \n",
      "2012-05-31 12:|2          |1.183                  |0.449                  |1.923                         |2.13                   |1.135                   |0.324                   |1.94                           |1.99                    |0.948                  |0.524                  |1.923                         |2.13                   |1.068                   |0.303                   |1.723                          |1.74                    |0.701                  |0.547                  |1.923                         |2.13                   |0.913                   |0.308                   |1.673                          |1.74                    |0.771                  |0.539                  |1.717                         |2.13                   |0.997                   |0.28                    |1.657                          |1.74                    |282.0                   |26.79                   |264.3                   |30.25                   |278.5                   |62.87                   |13.73               |1009          |14.04              |14.45              |64.51         \n",
      "30:00         |           |                       |                       |                              |                       |                        |                        |                               |                        |                       |                       |                              |                       |                        |                        |                               |                        |                       |                       |                              |                       |                        |                        |                               |                        |                       |                       |                              |                       |                        |                        |                               |                        |                        |                        |                        |                        |                        |                        |                    |              |                   |                   |              \n",
      "Total count: 2\n",
      "\n"
     ]
    }
   ],
   "source": [
    "file = \"/tmp/fugue_example_nonstd.csv\"\n",
    "with open(file, \"w\") as f:\n",
    "    f.write(content)\n",
    "\n",
    "with FugueWorkflow() as dag:\n",
    "    df = dag.create(read_text_file, params={\"filepath\": file})\n",
    "    df.show()\n",
    "\n",
    "with FugueWorkflow(engine=\"duckdb\") as dag:\n",
    "    df = dag.create(read_text_file, params={\"filepath\": file})\n",
    "    df.show()\n",
    "\n",
    "with FugueWorkflow(engine=\"dask\") as dag:\n",
    "    df = dag.create(read_text_file, params={\"filepath\": file})\n",
    "    df.show()\n",
    "\n",
    "os.unlink(file)"
   ]
  }
 ],
 "metadata": {
  "kernelspec": {
   "display_name": "Python 3.10.6 ('fugue')",
   "language": "python",
   "name": "python3"
  },
  "language_info": {
   "name": "python",
   "version": "3.10.6"
  },
  "vscode": {
   "interpreter": {
    "hash": "787dcf4b06485f091e5ea0894a1563cc39da567670ce0a93adb376c1b3122bd1"
   }
  }
 },
 "nbformat": 4,
 "nbformat_minor": 2
}
