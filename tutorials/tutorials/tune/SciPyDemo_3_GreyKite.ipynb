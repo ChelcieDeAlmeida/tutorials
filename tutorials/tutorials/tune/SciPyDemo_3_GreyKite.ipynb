{
 "cells": [
  {
   "cell_type": "code",
   "execution_count": null,
   "id": "437b80dd-226d-4d44-b9ae-54295705f219",
   "metadata": {},
   "outputs": [],
   "source": [
    "import coiled\n",
    "\n",
    "cluster = coiled.Cluster(name=\"han-wang-1e3d51eb-8\", software=\"fugue-env\")"
   ]
  },
  {
   "cell_type": "code",
   "execution_count": null,
   "id": "e600105f-59d4-49c6-a28b-d7c034e11753",
   "metadata": {},
   "outputs": [],
   "source": [
    "import numpy as np\n",
    "import pandas as pd\n",
    "import datetime\n",
    "\n",
    "from typing import Dict, Any, Tuple\n",
    "from copy import deepcopy\n",
    "\n",
    "# greykite configs\n",
    "from greykite.algo.changepoint.adalasso.changepoint_detector import ChangepointDetector\n",
    "from greykite.algo.forecast.silverkite.constants.silverkite_holiday import SilverkiteHoliday\n",
    "from greykite.algo.forecast.silverkite.constants.silverkite_seasonality import SilverkiteSeasonalityEnum\n",
    "from greykite.algo.forecast.silverkite.forecast_simple_silverkite_helper import cols_interact\n",
    "from greykite.common import constants as cst\n",
    "from greykite.common.features.timeseries_features import build_time_features_df\n",
    "from greykite.common.features.timeseries_features import convert_date_to_continuous_time\n",
    "from greykite.framework.benchmark.data_loader_ts import DataLoaderTS\n",
    "from greykite.framework.templates.autogen.forecast_config import EvaluationPeriodParam\n",
    "from greykite.framework.templates.autogen.forecast_config import ForecastConfig\n",
    "from greykite.framework.templates.autogen.forecast_config import MetadataParam\n",
    "from greykite.framework.templates.autogen.forecast_config import ModelComponentsParam\n",
    "from greykite.framework.templates.forecaster import Forecaster\n",
    "from greykite.framework.templates.model_templates import ModelTemplateEnum\n",
    "from greykite.framework.utils.result_summary import summarize_grid_search_results"
   ]
  },
  {
   "cell_type": "markdown",
   "id": "9e52ffe8-b80d-46df-b4e7-178bfafd06a2",
   "metadata": {},
   "source": [
    "# Define Objective Function"
   ]
  },
  {
   "cell_type": "code",
   "execution_count": null,
   "id": "2c06c7cc-404d-42a0-95d0-4a62abf2c18a",
   "metadata": {},
   "outputs": [],
   "source": [
    "def objective(**gkparams) -> float:\n",
    "    dl = DataLoaderTS()\n",
    "    ts = dl.load_peyton_manning_ts()\n",
    "    df_full = ts.make_future_dataframe(periods=365)\n",
    "    df_features = build_time_features_df(\n",
    "     dt=df_full[\"ts\"],\n",
    "     conti_year_origin=convert_date_to_continuous_time(df_full[\"ts\"][0])\n",
    "    )\n",
    "    is_football_season = (df_features[\"woy\"] <= 6) | (df_features[\"woy\"] >= 36)\n",
    "    df_full[\"is_football_season\"] = is_football_season.astype(int).tolist()\n",
    "    df_full.reset_index(drop=True, inplace=True)\n",
    "    \n",
    "    anomaly_df = pd.DataFrame({\n",
    "        # start and end date are inclusive\n",
    "        # each row is an anomaly interval\n",
    "        cst.START_DATE_COL: [\"2010-06-05\", \"2012-03-01\"],  # inclusive\n",
    "        cst.END_DATE_COL: [\"2010-06-20\", \"2012-03-20\"],  # inclusive\n",
    "        cst.ADJUSTMENT_DELTA_COL: [np.nan, np.nan],  # mask as NA\n",
    "    })\n",
    "\n",
    "    # Creates anomaly_info dictionary.\n",
    "    # This will be fed into the template.\n",
    "    anomaly_info = {\n",
    "        \"value_col\": \"y\",\n",
    "        \"anomaly_df\": anomaly_df,\n",
    "        \"adjustment_delta_col\": cst.ADJUSTMENT_DELTA_COL,\n",
    "    }\n",
    "\n",
    "    # Specifies dataset information\n",
    "    metadata = MetadataParam(\n",
    "        time_col=\"ts\",  # name of the time column\n",
    "        value_col=\"y\",  # name of the value column\n",
    "        freq=\"D\",  # \"H\" for hourly, \"D\" for daily, \"W\" for weekly, etc.\n",
    "        anomaly_info=anomaly_info,  # this is the anomaly information we defined above,\n",
    "        train_end_date=datetime.datetime(2016, 1, 20)\n",
    "    )\n",
    "\n",
    "    # Defines the cross-validation config\n",
    "    evaluation_period = EvaluationPeriodParam(\n",
    "        test_horizon=365,             # leaves 365 days as testing data\n",
    "        cv_horizon=365,               # each cv test size is 365 days (same as forecast horizon)\n",
    "        cv_max_splits=3,              # 3 folds cv\n",
    "        cv_min_train_periods=365 * 4  # uses at least 4 years for training because we have 8 years data\n",
    "    )\n",
    "\n",
    "    model_components = ModelComponentsParam(**gkparams)\n",
    "    \n",
    "    try:\n",
    "    \n",
    "        forecaster = Forecaster()\n",
    "        # Runs the forecast\n",
    "        run = forecaster.run_forecast_config(\n",
    "         df=df_full,\n",
    "         config=ForecastConfig(\n",
    "             model_template=ModelTemplateEnum.SILVERKITE.name,\n",
    "             model_components_param=model_components,\n",
    "             forecast_horizon=365,  # forecasts 365 steps ahead\n",
    "             coverage=0.95,  # 95% prediction intervals\n",
    "             metadata_param=metadata,\n",
    "             evaluation_period_param=evaluation_period\n",
    "         )\n",
    "        )\n",
    "\n",
    "        result = summarize_grid_search_results(\n",
    "            grid_search=run.grid_search,\n",
    "            column_order = [\"mean_test\"]\n",
    "        ).to_dict(\"records\")[0]\n",
    "\n",
    "        return result[\"mean_test_MAPE\"]\n",
    "    except:\n",
    "        return 10000"
   ]
  },
  {
   "cell_type": "markdown",
   "id": "141634c1-41d8-4bb7-8674-4df504c8dd81",
   "metadata": {},
   "source": [
    "# Define a Hybrid Search Space"
   ]
  },
  {
   "cell_type": "code",
   "execution_count": null,
   "id": "07c59a1a-9513-412b-aeac-3364364f5953",
   "metadata": {
    "scrolled": true,
    "tags": []
   },
   "outputs": [],
   "source": [
    "from tune import Space, Grid, Rand, RandInt, Choice, TransitionChoice, FuncParam\n",
    "\n",
    "weekly_seasonality = RandInt(0,8)\n",
    "yearly_seasonality = RandInt(0,50)\n",
    "\n",
    "space = Space(\n",
    "    seasonality = {\n",
    "        \"yearly_seasonality\": yearly_seasonality,\n",
    "        \"quarterly_seasonality\": RandInt(0,10),\n",
    "        \"monthly_seasonality\": RandInt(0,10),\n",
    "        \"weekly_seasonality\": weekly_seasonality,\n",
    "    },\n",
    "    changepoints = {\n",
    "        \"changepoints_dict\": dict(\n",
    "            method=\"auto\",\n",
    "            yearly_seasonality_order=yearly_seasonality,\n",
    "            regularization_strength=Rand(0.6,0.8),\n",
    "            resample_freq=TransitionChoice(*[f\"{x}D\" for x in range(1,32)]),\n",
    "            potential_changepoint_n=RandInt(10,200),\n",
    "            no_changepoint_distance_from_end=TransitionChoice(*[f\"{x}D\" for x in range(91,365)])\n",
    "        )\n",
    "    },\n",
    "    events = {\n",
    "        \"holidays_to_model_separately\": SilverkiteHoliday.ALL_HOLIDAYS_IN_COUNTRIES,\n",
    "        \"holiday_lookup_countries\": [\"UnitedStates\"],\n",
    "        \"holiday_pre_num_days\": Grid(0,1,2,3,4,5),\n",
    "        \"holiday_post_num_days\": Grid(0,1,2,3,4,5),\n",
    "        \"daily_event_df_dict\": {\n",
    "            \"superbowl\": pd.DataFrame({\n",
    "                \"date\": [\"2008-02-03\", \"2009-02-01\", \"2010-02-07\", \"2011-02-06\",\n",
    "                      \"2012-02-05\", \"2013-02-03\", \"2014-02-02\", \"2015-02-01\", \"2016-02-07\"],\n",
    "            \"event_name\": [\"event\"] * 9\n",
    "        })\n",
    "     }\n",
    "    },\n",
    "    custom = {\n",
    "        \"fit_algorithm_dict\": Grid(\n",
    "            {\"fit_algorithm\": \"ridge\"},\n",
    "            {\"fit_algorithm\": \"linear\", \"fit_algorithm_params\": dict(missing=\"drop\")}\n",
    "        ),\n",
    "    },\n",
    "    regressors = {\n",
    "        \"regressor_cols\": [\"is_football_season\"]\n",
    "    },\n",
    "    uncertainty={\n",
    "        \"uncertainty_dict\": \"auto\",\n",
    "    },\n",
    ").sample(4)"
   ]
  },
  {
   "cell_type": "markdown",
   "id": "54b66306-6fef-40b0-bef0-9f0f8b3f6593",
   "metadata": {},
   "source": [
    "# Tuning Flow"
   ]
  },
  {
   "cell_type": "code",
   "execution_count": null,
   "id": "397dd102-8d4d-4697-9052-8d6516545863",
   "metadata": {},
   "outputs": [],
   "source": [
    "from tune import suggest_for_noniterative_objective\n",
    "\n",
    "result = suggest_for_noniterative_objective(\n",
    "    objective,\n",
    "    space,\n",
    "    execution_engine = cluster,\n",
    "    logger           = \"wandb:GreyKite_tuning\"\n",
    ")"
   ]
  },
  {
   "cell_type": "code",
   "execution_count": null,
   "id": "4130f2e5-14d6-412f-98d5-ce0683e333bb",
   "metadata": {},
   "outputs": [],
   "source": [
    "result[0]"
   ]
  }
 ],
 "metadata": {
  "kernelspec": {
   "display_name": "Python 3.8.9 64-bit",
   "language": "python",
   "name": "python3"
  },
  "language_info": {
   "codemirror_mode": {
    "name": "ipython",
    "version": 3
   },
   "file_extension": ".py",
   "mimetype": "text/x-python",
   "name": "python",
   "nbconvert_exporter": "python",
   "pygments_lexer": "ipython3",
   "version": "3.8.9"
  },
  "vscode": {
   "interpreter": {
    "hash": "31f2aee4e71d21fbe5cf8b01ff0e069b9275f58929596ceb00d14d90e3e16cd6"
   }
  }
 },
 "nbformat": 4,
 "nbformat_minor": 5
}
