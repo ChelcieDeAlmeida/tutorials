{
 "cells": [
  {
   "cell_type": "markdown",
   "metadata": {},
   "source": [
    "# SystemError - unknown opcode\n",
    "\n",
    "This normally arises when using Dask on a cluster (it will not happen locally).  The error will look something like this.\n",
    "\n",
    "```\n",
    "SystemError: unknown opcode\n",
    "```"
   ]
  },
  {
   "cell_type": "markdown",
   "metadata": {},
   "source": [
    "The most common cause is an inconsistent environment between local and the cluster. The local versions of Python, dask, and distributed all need to be aligned because code is serialized with cloudpickle on the local side before it is sent to the cluster. This code is then unpickled and the deserialization will be inconsistent if the Python versions are inconsistent.\n",
    "\n",
    "One way to test this is by running the following code on the cluster."
   ]
  },
  {
   "cell_type": "raw",
   "metadata": {},
   "source": [
    "from dask.distributed import Client\n",
    "\n",
    "# insert your client here\n",
    "client = Client()\n",
    "\n",
    "from time import sleep\n",
    "import numpy as np\n",
    "from fugue import transform\n",
    "import fugue_dask\n",
    "import pandas as pd\n",
    "import dask.dataframe as dd\n",
    "\n",
    "def wrap():\n",
    "\n",
    "    # schema: *,x:int\n",
    "    def ppp(df:pd.DataFrame) -> pd.DataFrame:\n",
    "        sleep(2)\n",
    "        return df.assign(x=2)\n",
    "    \n",
    "    n=10000000\n",
    "    df = pd.DataFrame(dict(\n",
    "        a=np.random.rand(n),\n",
    "        b=np.random.rand(n)\n",
    "    ))\n",
    "    ddf = dd.from_pandas(df, npartitions=16)\n",
    "    \n",
    "    return transform(ddf, ppp, engine=\"dask\").compute()"
   ]
  },
  {
   "cell_type": "raw",
   "metadata": {},
   "source": []
  }
 ],
 "metadata": {
  "kernelspec": {
   "display_name": "Python 3.7.9 64-bit ('fugue-tutorials': conda)",
   "metadata": {
    "interpreter": {
     "hash": "131b24c7e1bb8763ab2b04d5b6d98a68c7b3a823a2a57c5722935f7690890f70"
    }
   },
   "name": "python3"
  },
  "language_info": {
   "name": "python",
   "nbconvert_exporter": "python",
   "version": "3.7.9-final"
  },
  "orig_nbformat": 2
 },
 "nbformat": 4,
 "nbformat_minor": 2
}