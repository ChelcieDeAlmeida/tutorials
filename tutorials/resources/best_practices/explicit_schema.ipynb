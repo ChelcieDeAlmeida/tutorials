{
 "cells": [
  {
   "cell_type": "markdown",
   "metadata": {},
   "source": [
    "# Explicit Schema\n",
    "\n",
    "**COMING SOON**\n",
    "\n",
    "## Pandas and Mixed Type Columns\n",
    "\n",
    "One of the bad habits that Pandas enables is having mixed type columns that are basically labelled as type `object`. This is not allowed in distribute computing frameworks such as Spark, Dask, and Ray because the data can be soread across multiple machines and having explicit data types guarantees consistency of the operations performed distributedly."
   ]
  }
 ],
 "metadata": {
  "kernelspec": {
   "display_name": "Python 3.8.9 64-bit",
   "language": "python",
   "name": "python3"
  },
  "language_info": {
   "name": "python",
   "version": "3.8.9"
  },
  "orig_nbformat": 4,
  "vscode": {
   "interpreter": {
    "hash": "31f2aee4e71d21fbe5cf8b01ff0e069b9275f58929596ceb00d14d90e3e16cd6"
   }
  }
 },
 "nbformat": 4,
 "nbformat_minor": 2
}
