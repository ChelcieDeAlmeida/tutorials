{
 "cells": [
  {
   "cell_type": "markdown",
   "metadata": {},
   "source": [
    "# Distributed Compute\n",
    "\n",
    "This is a heart of Fugue. In the previous sections, we went over how to use Fugue in the form of extensions and basic data operations such as joins. In this section, we'll talk about how those Fugue extensions scale."
   ]
  },
  {
   "cell_type": "markdown",
   "metadata": {},
   "source": [
    "## Partition and Presort\n",
    "\n",
    "One of the most fundamental distributed compute concepts is the partition. Our data is spread across several machines, and we often need to rearrange the way the data is spread across the machines. This is because of operations need all of the related data in one place. For example, calculating the median value per group requires all the data from the same group on one machine. Fugue allows users to control the paritioning scheme during execution.\n",
    "\n",
    "In the example below, `take` is an operation that gets an `n` number of rows. We apply take on each partition. We will have two partitions because `col1` is the partition key and it only has 2 values."
   ]
  },
  {
   "cell_type": "code",
   "execution_count": 1,
   "metadata": {},
   "outputs": [
    {
     "name": "stdout",
     "output_type": "stream",
     "text": [
      "PandasDataFrame\n",
      "col1:long|col2:long\n",
      "---------+---------\n",
      "2        |7        \n",
      "1        |5        \n",
      "Total count: 2\n",
      "\n"
     ]
    }
   ],
   "source": [
    "from fugue import FugueWorkflow\n",
    "import pandas as pd \n",
    "\n",
    "data = pd.DataFrame({'col1':[1,1,1,2,2,2], 'col2':[1,4,5,7,4,2]})\n",
    "df2 = data.copy()\n",
    "\n",
    "with FugueWorkflow() as dag:\n",
    "    df = dag.df(df2)\n",
    "    df = df.partition(by=['col1'], presort=\"col2 desc\").take(1)\n",
    "    df.show()"
   ]
  },
  {
   "cell_type": "markdown",
   "metadata": {},
   "source": [
    "Along we the partition, we also have the presort. The presort key here was `col2 desc`, which means that the data is sorted in descending order after partitioning. This makes the `take` operation give us the max value. We'll go over one more example."
   ]
  },
  {
   "cell_type": "code",
   "execution_count": 2,
   "metadata": {},
   "outputs": [
    {
     "name": "stdout",
     "output_type": "stream",
     "text": [
      "PandasDataFrame\n",
      "col1:long|col2:long|col2_diff:int\n",
      "---------+---------+-------------\n",
      "1        |1        |NULL         \n",
      "1        |4        |3            \n",
      "1        |5        |1            \n",
      "2        |7        |NULL         \n",
      "2        |4        |-3           \n",
      "2        |2        |-2           \n",
      "Total count: 6\n",
      "\n"
     ]
    }
   ],
   "source": [
    "# schema: *, col2_diff:int\n",
    "def diff(df: pd.DataFrame) -> pd.DataFrame:\n",
    "    df['col2_diff'] = df['col2'].diff(1)\n",
    "    return df\n",
    "\n",
    "df2 = data.copy()\n",
    "with FugueWorkflow() as dag:\n",
    "    df = dag.df(df2)\n",
    "    df = df.partition(by=['col1']).transform(diff)\n",
    "    df.show()"
   ]
  },
  {
   "cell_type": "markdown",
   "metadata": {},
   "source": [
    "Notice there are 2 NULL values in the previous example. This is because the first element of the `diff` operation results in NULL. The reason we have 2 NULLs is because the `transformer` was applied once for each partition. The `partition-transform` semantics are very similar to the `pandas groupby-apply` semantics. There is a deeper dive into partitions in the advanced tutorial."
   ]
  },
  {
   "cell_type": "markdown",
   "metadata": {},
   "source": [
    "## CoTransformer\n",
    "\n",
    "Last section, we skipped the `cotransformer` because it required knowledge about partitions. The `cotransformer` takes in multiple DataFrames that are **partitioned in the same way** and outputs one DataFrame. In order to use a `cotransformer`, the `zip` method has to be used first to join them by their common keys. There is also a `@cotransformer` decorator can be used to define the `cotransformer`, but it will still be invoked by the `zip-transform` syntax."
   ]
  },
  {
   "cell_type": "code",
   "execution_count": 3,
   "metadata": {},
   "outputs": [
    {
     "name": "stdout",
     "output_type": "stream",
     "text": [
      "PandasDataFrame\n",
      "df1:str       |df2:str                                                                       \n",
      "--------------+------------------------------------------------------------------------------\n",
      "[[0, 1]]      |[{'a': 0, 'c': 4}]                                                            \n",
      "[[1, 3]]      |[{'a': 1, 'c': 2}]                                                            \n",
      "Total count: 2\n",
      "\n"
     ]
    }
   ],
   "source": [
    "from typing import List, Any, Dict\n",
    "\n",
    "# schema: df1:str,df2:str\n",
    "def to_str(df1:List[List[Any]], df2:List[Dict[str,Any]]) -> List[List[Any]]:\n",
    "    return [[df1.__repr__(),df2.__repr__()]]\n",
    "\n",
    "with FugueWorkflow() as dag:\n",
    "    df1 = dag.df([[0,1],[1,3]],\"a:int,b:int\")\n",
    "    df2 = dag.df([[0,4],[1,2]],\"a:int,c:int\")\n",
    "    df1.zip(df2, partition={\"by\":\"a\"}).transform(to_str).show()\n"
   ]
  },
  {
   "cell_type": "markdown",
   "metadata": {},
   "source": [
    "In this example, the important part to note is that the first row of the output contains the items of `df1` and `df2` where `a` had a value of 0. The second row contains the items of `df1` and `df2` where `a` had a value of one. The `df1` column values show `List[List[Any]]` because that was the annotation provided for `df1` in `to_str`. Similarly, the `df2` column values show values in the format `List[Dict[str,Ayn]]` because that was the annotation provided for `df2`.\n",
    "\n",
    "This operation was partitioned by the column `a` before the `cotransform` was applied. This was done through the `zip` command. CoTransform is a more advanced operation that may take some experience to get used to."
   ]
  },
  {
   "cell_type": "markdown",
   "metadata": {},
   "source": [
    "## Persist and Broadcast\n",
    "\n",
    "Persist and broadcast are two other distributed compute concepts that Fugue has support for. Persist keeps a DataFrame in memory to avoid recomputation. Distributed compute frameworks often need an explicit `persist` call to know which DataFrames need to be kept, otherwise they tend to be calculated repeatedly.\n",
    "\n",
    "Broadcasting is making a smaller DataFrame available on all the workers of a cluster. Without `broadcast`, these small DataFrames would be repeatedly sent to workers whenever they are needed to perform an operation. Broadcasting caches them on the workers."
   ]
  },
  {
   "cell_type": "code",
   "execution_count": 4,
   "metadata": {},
   "outputs": [],
   "source": [
    "with FugueWorkflow() as dag:\n",
    "    df = dag.df([[0,1],[1,2]],\"a:long,b:long\")\n",
    "    df.persist()\n",
    "    df.broadcast()"
   ]
  }
 ],
 "metadata": {
  "kernelspec": {
   "display_name": "Python 3.7.9 64-bit ('fugue-tutorials': conda)",
   "metadata": {
    "interpreter": {
     "hash": "131b24c7e1bb8763ab2b04d5b6d98a68c7b3a823a2a57c5722935f7690890f70"
    }
   },
   "name": "python3"
  },
  "language_info": {
   "codemirror_mode": {
    "name": "ipython",
    "version": 3
   },
   "file_extension": ".py",
   "mimetype": "text/x-python",
   "name": "python",
   "nbconvert_exporter": "python",
   "pygments_lexer": "ipython3",
   "version": "3.7.9"
  },
  "orig_nbformat": 2
 },
 "nbformat": 4,
 "nbformat_minor": 2
}