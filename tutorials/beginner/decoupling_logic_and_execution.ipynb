{
 "cells": [
  {
   "cell_type": "markdown",
   "source": [
    "# Introduction\n",
    "\n",
    "Fugue is an abstraction layer for distributed computing frameworks such as Spark or Dask. The abstraction layer allows users to worry less about the tools they are using, and focus more on the problems they are solving. Often we'll find that logic written for data operations is highly tied to a specific compute framework (Pandas, Spark or Dask). There are many problems that come out of this:\n",
    "\n",
    "1. Users have to learn an entirely new framework to work with distributed compute problems\n",
    "2. Logic written for a *small data* project does not become reusable for a *big data* project\n",
    "3. Testing becomes a heavyweight process for distributed compute, especially Spark\n",
    "4. Along with number 3, iterations for distributed compute problems become slower and more expensive\n",
    "—"
   ],
   "metadata": {}
  },
  {
   "cell_type": "markdown",
   "source": [
    "## Decoupling Logic and Execution\n",
    "\n",
    "To illustrate the first two main points above, we'll use a simple example. For the data below, we are interested in getting the first three digits of the `phone` column and populating a new column called `location` based on it."
   ],
   "metadata": {}
  },
  {
   "cell_type": "code",
   "execution_count": 15,
   "source": [
    "import pandas as pd\n",
    "\n",
    "_area_code_map = {\"217\": \"Champaign, IL\", \"407\": \"Orlando, FL\", \"510\": \"Fremont, CA\"}\n",
    "\n",
    "data = pd.DataFrame({\"phone\": [\"(217)-123-4567\", \"(217)-234-5678\", \"(407)-123-4567\", \"(407)-234-5678\", \"(510)-123-4567\"]})\n",
    "data.head()"
   ],
   "outputs": [
    {
     "output_type": "execute_result",
     "data": {
      "text/plain": [
       "            phone\n",
       "0  (217)-123-4567\n",
       "1  (217)-234-5678\n",
       "2  (407)-123-4567\n",
       "3  (407)-234-5678\n",
       "4  (510)-123-4567"
      ],
      "text/html": [
       "<div>\n",
       "<style scoped>\n",
       "    .dataframe tbody tr th:only-of-type {\n",
       "        vertical-align: middle;\n",
       "    }\n",
       "\n",
       "    .dataframe tbody tr th {\n",
       "        vertical-align: top;\n",
       "    }\n",
       "\n",
       "    .dataframe thead th {\n",
       "        text-align: right;\n",
       "    }\n",
       "</style>\n",
       "<table border=\"1\" class=\"dataframe\">\n",
       "  <thead>\n",
       "    <tr style=\"text-align: right;\">\n",
       "      <th></th>\n",
       "      <th>phone</th>\n",
       "    </tr>\n",
       "  </thead>\n",
       "  <tbody>\n",
       "    <tr>\n",
       "      <th>0</th>\n",
       "      <td>(217)-123-4567</td>\n",
       "    </tr>\n",
       "    <tr>\n",
       "      <th>1</th>\n",
       "      <td>(217)-234-5678</td>\n",
       "    </tr>\n",
       "    <tr>\n",
       "      <th>2</th>\n",
       "      <td>(407)-123-4567</td>\n",
       "    </tr>\n",
       "    <tr>\n",
       "      <th>3</th>\n",
       "      <td>(407)-234-5678</td>\n",
       "    </tr>\n",
       "    <tr>\n",
       "      <th>4</th>\n",
       "      <td>(510)-123-4567</td>\n",
       "    </tr>\n",
       "  </tbody>\n",
       "</table>\n",
       "</div>"
      ]
     },
     "metadata": {},
     "execution_count": 15
    }
   ],
   "metadata": {}
  },
  {
   "cell_type": "markdown",
   "source": [
    "First, we'll perform the operation in Pandas. "
   ],
   "metadata": {}
  },
  {
   "cell_type": "code",
   "execution_count": 16,
   "source": [
    "def map_phone_to_location(df: pd.DataFrame) -> pd.DataFrame:\n",
    "    df[\"location\"] = df[\"phone\"].str.slice(1,4).map(_area_code_map)\n",
    "    return df\n",
    "\n",
    "map_phone_to_location(data.copy())"
   ],
   "outputs": [
    {
     "output_type": "execute_result",
     "data": {
      "text/plain": [
       "            phone       location\n",
       "0  (217)-123-4567  Champaign, IL\n",
       "1  (217)-234-5678  Champaign, IL\n",
       "2  (407)-123-4567    Orlando, FL\n",
       "3  (407)-234-5678    Orlando, FL\n",
       "4  (510)-123-4567    Fremont, CA"
      ],
      "text/html": [
       "<div>\n",
       "<style scoped>\n",
       "    .dataframe tbody tr th:only-of-type {\n",
       "        vertical-align: middle;\n",
       "    }\n",
       "\n",
       "    .dataframe tbody tr th {\n",
       "        vertical-align: top;\n",
       "    }\n",
       "\n",
       "    .dataframe thead th {\n",
       "        text-align: right;\n",
       "    }\n",
       "</style>\n",
       "<table border=\"1\" class=\"dataframe\">\n",
       "  <thead>\n",
       "    <tr style=\"text-align: right;\">\n",
       "      <th></th>\n",
       "      <th>phone</th>\n",
       "      <th>location</th>\n",
       "    </tr>\n",
       "  </thead>\n",
       "  <tbody>\n",
       "    <tr>\n",
       "      <th>0</th>\n",
       "      <td>(217)-123-4567</td>\n",
       "      <td>Champaign, IL</td>\n",
       "    </tr>\n",
       "    <tr>\n",
       "      <th>1</th>\n",
       "      <td>(217)-234-5678</td>\n",
       "      <td>Champaign, IL</td>\n",
       "    </tr>\n",
       "    <tr>\n",
       "      <th>2</th>\n",
       "      <td>(407)-123-4567</td>\n",
       "      <td>Orlando, FL</td>\n",
       "    </tr>\n",
       "    <tr>\n",
       "      <th>3</th>\n",
       "      <td>(407)-234-5678</td>\n",
       "      <td>Orlando, FL</td>\n",
       "    </tr>\n",
       "    <tr>\n",
       "      <th>4</th>\n",
       "      <td>(510)-123-4567</td>\n",
       "      <td>Fremont, CA</td>\n",
       "    </tr>\n",
       "  </tbody>\n",
       "</table>\n",
       "</div>"
      ]
     },
     "metadata": {},
     "execution_count": 16
    }
   ],
   "metadata": {}
  },
  {
   "cell_type": "markdown",
   "source": [
    "Next we'll perform the same operation in Spark and see how different the syntax is."
   ],
   "metadata": {}
  },
  {
   "cell_type": "code",
   "execution_count": 17,
   "source": [
    "# Setting up Spark session\n",
    "from pyspark.sql import SparkSession, DataFrame\n",
    "spark = SparkSession.builder.getOrCreate()"
   ],
   "outputs": [],
   "metadata": {}
  },
  {
   "cell_type": "code",
   "execution_count": 18,
   "source": [
    "from pyspark.sql.functions import create_map, col, lit, substring\n",
    "from itertools import chain\n",
    "\n",
    "df = spark.createDataFrame(data)  # converting the previous Pandas DataFrame\n",
    "\n",
    "mapping_expr = create_map([lit(x) for x in chain(*_area_code_map.items())])\n",
    "\n",
    "def map_phone_to_location(df: DataFrame) -> DataFrame:\n",
    "    _df = df.withColumn(\"location\", mapping_expr[substring(col(\"phone\"),2,3)])\n",
    "    return _df\n",
    "\n",
    "map_phone_to_location(df).show()"
   ],
   "outputs": [
    {
     "output_type": "stream",
     "name": "stdout",
     "text": [
      "+--------------+-------------+\n",
      "|         phone|     location|\n",
      "+--------------+-------------+\n",
      "|(217)-123-4567|Champaign, IL|\n",
      "|(217)-234-5678|Champaign, IL|\n",
      "|(407)-123-4567|  Orlando, FL|\n",
      "|(407)-234-5678|  Orlando, FL|\n",
      "|(510)-123-4567|  Fremont, CA|\n",
      "+--------------+-------------+\n",
      "\n"
     ]
    }
   ],
   "metadata": {}
  },
  {
   "cell_type": "markdown",
   "source": [
    "Looking at the two code examples, we had to reimplement the exact same functionality with completely different syntax. This isn't a cherry-picked example. Data practitioners will often have to write two implementations of the same logic, one for each framework, especially as the logic gets more specific. \n",
    "\n",
    "This is where Fugue comes in. Users can use the abstraction layer to only write one implementation of the function. This can then be applied to Pandas, Spark, and Dask. All we need to do is apply a `transformer` decorator to the Pandas implementation of the function. The decorator takes in a string that specifies the output schema."
   ],
   "metadata": {}
  },
  {
   "cell_type": "code",
   "execution_count": 19,
   "source": [
    "from fugue import transformer\n",
    "\n",
    "@transformer(\"*, location:str\")\n",
    "def map_phone_to_location(df: pd.DataFrame) -> pd.DataFrame:\n",
    "    df[\"location\"] = df[\"phone\"].str.slice(1,4).map(_area_code_map)\n",
    "    return df"
   ],
   "outputs": [],
   "metadata": {}
  },
  {
   "cell_type": "markdown",
   "source": [
    "By wrapping the function with the decorator, we can then use it inside a `FugueWorkflow`. The `FugueWorkflow` constructs a directed-acyclic graph (DAG) where the inputs and outputs are DataFrames. More details will follow but the important thing for now is to show how it's used. The code block below is still running in Pandas."
   ],
   "metadata": {}
  },
  {
   "cell_type": "code",
   "execution_count": 20,
   "source": [
    "from fugue import FugueWorkflow\n",
    "\n",
    "with FugueWorkflow() as dag:\n",
    "    df = dag.df(data.copy())  # Still the original Pandas DataFrame\n",
    "    df = df.transform(map_phone_to_location)\n",
    "    df.show()"
   ],
   "outputs": [
    {
     "output_type": "stream",
     "name": "stdout",
     "text": [
      "PandasDataFrame\n",
      "phone:str                                                      |location:str             \n",
      "---------------------------------------------------------------+-------------------------\n",
      "(217)-123-4567                                                 |Champaign, IL            \n",
      "(217)-234-5678                                                 |Champaign, IL            \n",
      "(407)-123-4567                                                 |Orlando, FL              \n",
      "(407)-234-5678                                                 |Orlando, FL              \n",
      "(510)-123-4567                                                 |Fremont, CA              \n",
      "Total count: 5\n",
      "\n"
     ]
    }
   ],
   "metadata": {}
  },
  {
   "cell_type": "markdown",
   "source": [
    "In order to bring it to Spark, all we need to do is pass the SparkExecutionEngine into FugueWorkflow. Now all the code underneath the `with` statement will run on Spark. We did not make any modifications to `concat_and_reverse` in order to bring it to Spark. By wrapping the function with a `transformer`, it became agnostic to the ExecutionEngine it was operating on. We can use the same function in Spark without making modifications."
   ],
   "metadata": {}
  },
  {
   "cell_type": "code",
   "execution_count": 22,
   "source": [
    "from fugue_spark import SparkExecutionEngine\n",
    "\n",
    "with FugueWorkflow(SparkExecutionEngine) as dag:\n",
    "    df = dag.df(data.copy())  # Still the original Pandas DataFrame\n",
    "    df = df.transform(map_phone_to_location)\n",
    "    df.show()"
   ],
   "outputs": [
    {
     "output_type": "stream",
     "name": "stdout",
     "text": [
      "SparkDataFrame\n",
      "phone:str                                                      |location:str             \n",
      "---------------------------------------------------------------+-------------------------\n",
      "(217)-123-4567                                                 |Champaign, IL            \n",
      "(217)-234-5678                                                 |Champaign, IL            \n",
      "(407)-123-4567                                                 |Orlando, FL              \n",
      "(407)-234-5678                                                 |Orlando, FL              \n",
      "(510)-123-4567                                                 |Fremont, CA              \n",
      "Total count: 5\n",
      "\n"
     ]
    }
   ],
   "metadata": {}
  },
  {
   "cell_type": "markdown",
   "source": [
    "## Independence from Frameworks\n",
    "\n",
    "We earlier said that the abstraction layer Fugue provides makes code independent of any framework. Some users may have realized that `map_phone_to_location` was still written in Pandas, and they would be right. However, we can actually rewrite this function in native Python and apply it on the Pandas and Spark engines. Below is the implementation in native Python. Similar to earlier, we are running this on Spark by passing in the `SparkExecutionEngine`"
   ],
   "metadata": {}
  },
  {
   "cell_type": "code",
   "execution_count": 24,
   "source": [
    "from typing import List, Dict, Any\n",
    "\n",
    "# schema: *, location:str\n",
    "def map_phone_to_location(df: List[Dict[str,Any]]) -> List[Dict[str,Any]]:\n",
    "    for row in df:\n",
    "        row[\"location\"] = _area_code_map[row[\"phone\"][1:4]]\n",
    "    return df\n",
    "\n",
    "with FugueWorkflow() as dag:\n",
    "    df = dag.df(data.copy())  # Still the original Pandas DataFrame\n",
    "    df = df.transform(map_phone_to_location)\n",
    "    df.show()"
   ],
   "outputs": [
    {
     "output_type": "stream",
     "name": "stdout",
     "text": [
      "ArrayDataFrame\n",
      "phone:str                                                      |location:str             \n",
      "---------------------------------------------------------------+-------------------------\n",
      "(217)-123-4567                                                 |Champaign, IL            \n",
      "(217)-234-5678                                                 |Champaign, IL            \n",
      "(407)-123-4567                                                 |Orlando, FL              \n",
      "(407)-234-5678                                                 |Orlando, FL              \n",
      "(510)-123-4567                                                 |Fremont, CA              \n",
      "Total count: 5\n",
      "\n"
     ]
    }
   ],
   "metadata": {}
  },
  {
   "cell_type": "markdown",
   "source": [
    "Notice the `@transformer` decorator was removed from `map_phone_to_location`. Instead, it was replaced with a comment that specified the schema. Fugue reads in this comment as the schema hint. Now, this function is truly independent of any framework and written in native Python. **It is even independent from Fugue itself.** Fugue only appears when we reach the execution part of the code. Logic, however, is not coupled with any framework. Keen users may also notice that the type annotations in the `concat_and_reverse` caused the DataFrame to be converted before it was used by the function. If users want to offboard from Fugue, they can use their function with Pandas `apply()` or Spark user-defined functions (UDFs).\n",
    "\n",
    "Is the native Python implementation or Pandas implementation of `concat_and_reverse` better? Is the native Spark implementation better? The main concern of Fugue is clear readable code. **Users can write code in whatever expresses their logic the best**. There will be cases where the Pandas implementation is faster than native Python, especially because of vectorized operations and usage of C. However, the philosophy of Fugue is clean and reusable logic that is portable across frameworks. We demonstrated that Fugue can be used on Pandas and Spark. To use it on Dask, we simply use the `DaskExecutionEngine`. The compute efficiency lost by using Fugue is unlikely to be significant, especially in comparison to the developer efficiency gained through more rapid iterations and easier maintenance. In fact, Fugue is designed in a way that often sees speed ups compared to inexperienced users working with native Spark code. Fugue handles a lot of the tricks necessary to use Spark effectively.\n",
    "\n",
    "Fugue also future-proofs the code. If one day Spark and Dask are replaced by a more efficient framework, a new ExecutionEngine can be added to Fugue to support that new framework."
   ],
   "metadata": {}
  },
  {
   "cell_type": "markdown",
   "source": [
    "## Testability and Maintainability\n",
    "\n",
    "Fugue code becomes easily testable because the function contains logic that is portable across all Pandas, Spark, and Dask. All we have to do is run some values through the defined function. We can test code without the need to spin up compute resources (such as Spark or Dask clusters). This hardware often takes time to spin up just for a simple test. Now, we can test quickly with native Python or Pandas, and then execute on Spark when needed. Developers that use Fugue benefit from more rapid iterations in their data projects."
   ],
   "metadata": {}
  },
  {
   "cell_type": "code",
   "execution_count": 9,
   "source": [
    "# Remember the input was List[Dict[str,Any]]\n",
    "concat_and_reverse([{'col1': 'hello', 'col2': 'world'}, \n",
    "                    {'col1': 'apple', 'col2': 'banana'}])"
   ],
   "outputs": [
    {
     "output_type": "execute_result",
     "data": {
      "text/plain": [
       "[{'col1': 'hello', 'col2': 'world', 'col3': 'row_olleh'},\n",
       " {'col1': 'apple', 'col2': 'banana', 'col3': 'nab_elppa'}]"
      ]
     },
     "metadata": {},
     "execution_count": 9
    }
   ],
   "metadata": {}
  },
  {
   "cell_type": "markdown",
   "source": [
    "## Fugue as a Mindset\n",
    "\n",
    "Fugue is a framework, but more importantly, it is a mindset. \n",
    "\n",
    "1. Fugue believes that the framework should adapt to the user, not the other way around\n",
    "2. Fugue lets users code express logic in a scale-agnostic way, with the tools they prefer\n",
    "3. Fugue values readability and maintainability of code over deep framework-specific optimizations\n",
    "\n",
    "Distributed computing is currently harder than it needs to be. However, these systems often follow similar patterns, which have been abstracted to create a framework that lets users focus on defining their logic. We cover these concepts in the following tutorials. If you're new to distributed computing, Fugue is the perfect place to get started.\n",
    "\n",
    "## Comparison to Modin and Koalas\n",
    "\n",
    "Fugue gets compared a lot of Modin and Koalas. Modin is a Pandas interface for execution on Dask, and Koalas is a Pandas interface for execution on Spark. Fugue, Modin, and Koalas have very similar goals in making an easier distributed computing experience. The main difference is that Modin and Koalas use Pandas as the grammar for distributed compute. Fugue, on the other hand, uses native Python and SQL as the grammar for distributed compute. \n",
    "\n",
    "The clearest example of Pandas not being compatible with Spark is the acceptance of mixed-typed columns. A single column can have numeric and string values. Spark on the other hand, is strongly typed. More than that, Pandas is strongly reliant on the index for operations. As users transition to Spark, the index mindset does not hold as well. Order is not always guaranteed in a distributed system, and there is an overhead to maintain a global index, even when it is not necessary."
   ],
   "metadata": {}
  }
 ],
 "metadata": {
  "interpreter": {
   "hash": "4cd7ab41f5fca4b9b44701077e38c5ffd31fe66a6cab21e0214b68d958d0e462"
  },
  "kernelspec": {
   "name": "python3",
   "display_name": "Python 3.7.9 64-bit"
  },
  "language_info": {
   "codemirror_mode": {
    "name": "ipython",
    "version": 3
   },
   "file_extension": ".py",
   "mimetype": "text/x-python",
   "name": "python",
   "nbconvert_exporter": "python",
   "pygments_lexer": "ipython3",
   "version": "3.7.9"
  },
  "metadata": {
   "interpreter": {
    "hash": "f7f9294720e464cd08733c6cd5cfe1a4599977fa03668bc63f2dfd97f1a61807"
   }
  },
  "orig_nbformat": 2
 },
 "nbformat": 4,
 "nbformat_minor": 2
}