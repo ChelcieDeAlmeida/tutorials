{
 "cells": [
  {
   "cell_type": "markdown",
   "metadata": {},
   "source": [
    "# Partitioning\n",
    "\n",
    "In the last section, we showed how the `transform()` function could be applied on functions with inputs such as `List[List[Any]]` or `List[Dict[str,Any]]` besides `pd.DataFrame`. In this section, we'll show a feature of `transform()` we have not touched on yet, the `partition` argument.\n",
    "\n",
    "The `partition` argument allows us to control the partitoning scheme before the `transform()` operation is applied."
   ]
  },
  {
   "cell_type": "markdown",
   "metadata": {},
   "source": [
    "## Simple Partitioning Example\n",
    "\n",
    "In the DataFrame below, we want to take the difference of the value per day. Because there are three different ids, we want to make sure that we don't get the difference across ids."
   ]
  },
  {
   "cell_type": "code",
   "execution_count": 8,
   "metadata": {},
   "outputs": [
    {
     "data": {
      "text/html": "<div>\n<style scoped>\n    .dataframe tbody tr th:only-of-type {\n        vertical-align: middle;\n    }\n\n    .dataframe tbody tr th {\n        vertical-align: top;\n    }\n\n    .dataframe thead th {\n        text-align: right;\n    }\n</style>\n<table border=\"1\" class=\"dataframe\">\n  <thead>\n    <tr style=\"text-align: right;\">\n      <th></th>\n      <th>date</th>\n      <th>id</th>\n      <th>val</th>\n    </tr>\n  </thead>\n  <tbody>\n    <tr>\n      <th>0</th>\n      <td>2021-01-01</td>\n      <td>A</td>\n      <td>3</td>\n    </tr>\n    <tr>\n      <th>1</th>\n      <td>2021-01-02</td>\n      <td>A</td>\n      <td>4</td>\n    </tr>\n    <tr>\n      <th>2</th>\n      <td>2021-01-03</td>\n      <td>A</td>\n      <td>2</td>\n    </tr>\n    <tr>\n      <th>3</th>\n      <td>2021-01-01</td>\n      <td>B</td>\n      <td>1</td>\n    </tr>\n    <tr>\n      <th>4</th>\n      <td>2021-01-02</td>\n      <td>B</td>\n      <td>2</td>\n    </tr>\n  </tbody>\n</table>\n</div>",
      "text/plain": "         date id  val\n0  2021-01-01  A    3\n1  2021-01-02  A    4\n2  2021-01-03  A    2\n3  2021-01-01  B    1\n4  2021-01-02  B    2"
     },
     "execution_count": 8,
     "metadata": {},
     "output_type": "execute_result"
    }
   ],
   "source": [
    "import pandas as pd \n",
    "\n",
    "data = pd.DataFrame({\"date\":[\"2021-01-01\", \"2021-01-02\", \"2021-01-03\"] * 3,\n",
    "                   \"id\": ([\"A\"]*3 + [\"B\"]*3 + [\"C\"]*3),\n",
    "                   \"value\": [3, 4, 2, 1, 2, 5, 3, 2, 3]})\n",
    "data.head()"
   ]
  },
  {
   "cell_type": "markdown",
   "metadata": {},
   "source": [
    "Now we create a function that takes in a `pd.DataFrame` and outputs a `pd.DataFrame`. This will allow us to bring the logic to Spark and Dask as we've seen before."
   ]
  },
  {
   "cell_type": "code",
   "execution_count": 9,
   "metadata": {},
   "outputs": [],
   "source": [
    "def diff(df: pd.DataFrame) -> pd.DataFrame:\n",
    "    df['diff'] = df['val'].diff()\n",
    "    return df"
   ]
  },
  {
   "cell_type": "markdown",
   "metadata": {},
   "source": [
    "But if we use this directly, we will notice that there is a row where the between B and A was calculated, which is invalid. This is because we did not supply a partition."
   ]
  },
  {
   "cell_type": "code",
   "execution_count": 13,
   "metadata": {},
   "outputs": [
    {
     "data": {
      "text/html": "<div>\n<style scoped>\n    .dataframe tbody tr th:only-of-type {\n        vertical-align: middle;\n    }\n\n    .dataframe tbody tr th {\n        vertical-align: top;\n    }\n\n    .dataframe thead th {\n        text-align: right;\n    }\n</style>\n<table border=\"1\" class=\"dataframe\">\n  <thead>\n    <tr style=\"text-align: right;\">\n      <th></th>\n      <th>date</th>\n      <th>id</th>\n      <th>val</th>\n      <th>diff</th>\n    </tr>\n  </thead>\n  <tbody>\n    <tr>\n      <th>0</th>\n      <td>2021-01-01</td>\n      <td>A</td>\n      <td>3</td>\n      <td>NaN</td>\n    </tr>\n    <tr>\n      <th>1</th>\n      <td>2021-01-02</td>\n      <td>A</td>\n      <td>4</td>\n      <td>1.0</td>\n    </tr>\n    <tr>\n      <th>2</th>\n      <td>2021-01-03</td>\n      <td>A</td>\n      <td>2</td>\n      <td>-2.0</td>\n    </tr>\n    <tr>\n      <th>3</th>\n      <td>2021-01-01</td>\n      <td>B</td>\n      <td>1</td>\n      <td>-1.0</td>\n    </tr>\n    <tr>\n      <th>4</th>\n      <td>2021-01-02</td>\n      <td>B</td>\n      <td>2</td>\n      <td>1.0</td>\n    </tr>\n  </tbody>\n</table>\n</div>",
      "text/plain": "         date id  val  diff\n0  2021-01-01  A    3   NaN\n1  2021-01-02  A    4   1.0\n2  2021-01-03  A    2  -2.0\n3  2021-01-01  B    1  -1.0\n4  2021-01-02  B    2   1.0"
     },
     "execution_count": 13,
     "metadata": {},
     "output_type": "execute_result"
    }
   ],
   "source": [
    "from fugue import transform\n",
    "transform(data.copy(), \n",
    "          diff, \n",
    "          schema=\"*, diff:int\").head()"
   ]
  },
  {
   "cell_type": "markdown",
   "metadata": {},
   "source": [
    "This can be solved by passing the partitions to Fugue's `transform()`. Now we see that this will correctly give NaN for the first value for B."
   ]
  },
  {
   "cell_type": "code",
   "execution_count": 14,
   "metadata": {},
   "outputs": [
    {
     "data": {
      "text/html": "<div>\n<style scoped>\n    .dataframe tbody tr th:only-of-type {\n        vertical-align: middle;\n    }\n\n    .dataframe tbody tr th {\n        vertical-align: top;\n    }\n\n    .dataframe thead th {\n        text-align: right;\n    }\n</style>\n<table border=\"1\" class=\"dataframe\">\n  <thead>\n    <tr style=\"text-align: right;\">\n      <th></th>\n      <th>date</th>\n      <th>id</th>\n      <th>val</th>\n      <th>diff</th>\n    </tr>\n  </thead>\n  <tbody>\n    <tr>\n      <th>0</th>\n      <td>2021-01-01</td>\n      <td>A</td>\n      <td>3</td>\n      <td>NaN</td>\n    </tr>\n    <tr>\n      <th>1</th>\n      <td>2021-01-02</td>\n      <td>A</td>\n      <td>4</td>\n      <td>1.0</td>\n    </tr>\n    <tr>\n      <th>2</th>\n      <td>2021-01-03</td>\n      <td>A</td>\n      <td>2</td>\n      <td>-2.0</td>\n    </tr>\n    <tr>\n      <th>3</th>\n      <td>2021-01-01</td>\n      <td>B</td>\n      <td>1</td>\n      <td>NaN</td>\n    </tr>\n    <tr>\n      <th>4</th>\n      <td>2021-01-02</td>\n      <td>B</td>\n      <td>2</td>\n      <td>1.0</td>\n    </tr>\n  </tbody>\n</table>\n</div>",
      "text/plain": "         date id  val  diff\n0  2021-01-01  A    3   NaN\n1  2021-01-02  A    4   1.0\n2  2021-01-03  A    2  -2.0\n3  2021-01-01  B    1   NaN\n4  2021-01-02  B    2   1.0"
     },
     "execution_count": 14,
     "metadata": {},
     "output_type": "execute_result"
    }
   ],
   "source": [
    "transform(data.copy(), \n",
    "          diff, \n",
    "          schema=\"*, diff:int\",\n",
    "          partition={\"by\": \"id\"}).head()"
   ]
  },
  {
   "cell_type": "markdown",
   "metadata": {},
   "source": [
    "## Default Partitions\n",
    "\n",
    "So what happens if we don't supply partitions when we call `transform()`? To find out, we "
   ]
  },
  {
   "cell_type": "code",
   "execution_count": 23,
   "metadata": {},
   "outputs": [
    {
     "name": "stdout",
     "output_type": "stream",
     "text": [
      "+-----+\n",
      "|count|\n",
      "+-----+\n",
      "|    1|\n",
      "|    1|\n",
      "|    1|\n",
      "|    1|\n",
      "|    1|\n",
      "|    1|\n",
      "|    1|\n",
      "|    2|\n",
      "+-----+\n",
      "\n"
     ]
    }
   ],
   "source": [
    "from typing import List, Dict, Any\n",
    "import fugue_spark\n",
    "\n",
    "def count(df: pd.DataFrame) -> List[Dict[str,Any]]:\n",
    "    return [{\"count\": df.shape[0]}]\n",
    "\n",
    "transform(data.copy(),\n",
    "          count,\n",
    "          schema=\"count:int\",\n",
    "          engine=\"spark\").show()"
   ]
  }
 ],
 "metadata": {
  "kernelspec": {
   "display_name": "Python 3.7.9 64-bit ('fugue-tutorials': conda)",
   "metadata": {
    "interpreter": {
     "hash": "131b24c7e1bb8763ab2b04d5b6d98a68c7b3a823a2a57c5722935f7690890f70"
    }
   },
   "name": "python3"
  },
  "language_info": {
   "codemirror_mode": {
    "name": "ipython",
    "version": 3
   },
   "file_extension": ".py",
   "mimetype": "text/x-python",
   "name": "python",
   "nbconvert_exporter": "python",
   "pygments_lexer": "ipython3",
   "version": "3.7.9"
  },
  "orig_nbformat": 2
 },
 "nbformat": 4,
 "nbformat_minor": 2
}