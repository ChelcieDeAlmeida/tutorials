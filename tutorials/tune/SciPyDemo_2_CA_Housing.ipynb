{
 "cells": [
  {
   "cell_type": "code",
   "execution_count": 2,
   "id": "cd9b361c-9f74-447c-a852-e0ea06984974",
   "metadata": {},
   "outputs": [
    {
     "data": {
      "application/vnd.jupyter.widget-view+json": {
       "model_id": "7679064d642b438dac432a93e2f82d68",
       "version_major": 2,
       "version_minor": 0
      },
      "text/plain": [
       "Output()"
      ]
     },
     "metadata": {},
     "output_type": "display_data"
    },
    {
     "data": {
      "text/html": [
       "<pre style=\"white-space:pre;overflow-x:auto;line-height:normal;font-family:Menlo,'DejaVu Sans Mono',consolas,'Courier New',monospace\"></pre>\n"
      ],
      "text/plain": []
     },
     "metadata": {},
     "output_type": "display_data"
    },
    {
     "name": "stderr",
     "output_type": "stream",
     "text": [
      "WARNING:root:error sending AWS credentials to cluster: Connect timeout on endpoint URL: \"http://169.254.169.254/latest/api/token\"\n"
     ]
    }
   ],
   "source": [
    "from fugue_coiled import CoiledDaskClient\n",
    "\n",
    "client = CoiledDaskClient(n_workers=8, software=\"fugue-env\", environ={\"WANDB_START_METHOD\":\"thread\"})"
   ]
  },
  {
   "cell_type": "code",
   "execution_count": null,
   "id": "af63c1f9-4526-497c-90c1-5c7671b0b406",
   "metadata": {},
   "outputs": [],
   "source": [
    "# client.close()"
   ]
  },
  {
   "cell_type": "code",
   "execution_count": 3,
   "id": "31a8ace1-9903-4c2a-8ccb-2451bf0f58aa",
   "metadata": {},
   "outputs": [
    {
     "data": {
      "text/plain": [
       "[       MedInc  HouseAge  AveRooms  AveBedrms  Population  AveOccup  Latitude  \\\n",
       " 12069  4.2386       6.0  7.723077   1.169231       228.0  3.507692     33.83   \n",
       " 15925  4.3898      52.0  5.326622   1.100671      1485.0  3.322148     37.73   \n",
       " 11162  3.9333      26.0  4.668478   1.046196      1022.0  2.777174     33.83   \n",
       " 4904   1.4653      38.0  3.383495   1.009709       749.0  3.635922     34.01   \n",
       " 4683   3.1765      52.0  4.119792   1.043403      1135.0  1.970486     34.08   \n",
       " ...       ...       ...       ...        ...         ...       ...       ...   \n",
       " 13123  4.4125      20.0  6.000000   1.045662       712.0  3.251142     38.27   \n",
       " 19648  2.9135      27.0  5.349282   0.933014       647.0  3.095694     37.48   \n",
       " 9845   3.1977      31.0  3.641221   0.941476       704.0  1.791349     36.58   \n",
       " 10799  5.6315      34.0  4.540598   1.064103      1052.0  2.247863     33.62   \n",
       " 2732   1.3882      15.0  3.929530   1.100671      1024.0  3.436242     32.80   \n",
       " \n",
       "        Longitude   target  \n",
       " 12069    -117.55  5.00001  \n",
       " 15925    -122.44  2.70000  \n",
       " 11162    -118.00  1.96100  \n",
       " 4904     -118.26  1.18800  \n",
       " 4683     -118.36  2.25000  \n",
       " ...          ...      ...  \n",
       " 13123    -121.26  1.44600  \n",
       " 19648    -120.89  1.59400  \n",
       " 9845     -121.90  2.89300  \n",
       " 10799    -117.93  4.84600  \n",
       " 2732     -115.56  0.69400  \n",
       " \n",
       " [16512 rows x 9 columns],\n",
       "        MedInc  HouseAge  AveRooms  AveBedrms  Population  AveOccup  Latitude  \\\n",
       " 14740  4.1518      22.0  5.663073   1.075472      1551.0  4.180593     32.58   \n",
       " 10101  5.7796      32.0  6.107226   0.927739      1296.0  3.020979     33.92   \n",
       " 20566  4.3487      29.0  5.930712   1.026217      1554.0  2.910112     38.65   \n",
       " 2670   2.4511      37.0  4.992958   1.316901       390.0  2.746479     33.20   \n",
       " 15709  5.0049      25.0  4.319261   1.039578       649.0  1.712401     37.79   \n",
       " ...       ...       ...       ...        ...         ...       ...       ...   \n",
       " 6655   2.4817      33.0  3.875723   1.034682      2050.0  2.962428     34.16   \n",
       " 3505   4.3839      36.0  5.283636   0.981818       808.0  2.938182     34.25   \n",
       " 1919   3.2027      11.0  5.276074   1.058282       850.0  2.607362     38.86   \n",
       " 1450   6.1436      18.0  7.323529   1.050802      1072.0  2.866310     37.96   \n",
       " 4148   3.3326      52.0  3.891626   1.049261      1462.0  3.600985     34.12   \n",
       " \n",
       "        Longitude  target  \n",
       " 14740    -117.05   1.369  \n",
       " 10101    -117.97   2.413  \n",
       " 20566    -121.84   2.007  \n",
       " 2670     -115.60   0.725  \n",
       " 15709    -122.43   4.600  \n",
       " ...          ...     ...  \n",
       " 6655     -118.13   1.695  \n",
       " 3505     -118.45   2.046  \n",
       " 1919     -120.92   1.286  \n",
       " 1450     -121.95   2.595  \n",
       " 4148     -118.20   1.676  \n",
       " \n",
       " [4128 rows x 9 columns]]"
      ]
     },
     "execution_count": 3,
     "metadata": {},
     "output_type": "execute_result"
    }
   ],
   "source": [
    "import pandas as pd\n",
    "from typing import Tuple, Dict, Any\n",
    "from tune import Space, RandInt, Grid\n",
    "from sklearn.model_selection import cross_val_score\n",
    "from sklearn.metrics import mean_absolute_percentage_error, make_scorer\n",
    "from sklearn.datasets import fetch_california_housing, load_diabetes\n",
    "from sklearn.model_selection import train_test_split\n",
    "\n",
    "def get_housing(func:callable):\n",
    "    data = func(as_frame=True)\n",
    "    return train_test_split(data[\"data\"].assign(target=data[\"target\"]), test_size=0.2, random_state=0)\n",
    "    \n",
    "get_housing(fetch_california_housing)"
   ]
  },
  {
   "cell_type": "markdown",
   "id": "95d055e6-4126-4b20-ba8c-b7553a5f56d9",
   "metadata": {},
   "source": [
    "# Define Objective Function and Search Space"
   ]
  },
  {
   "cell_type": "code",
   "execution_count": 4,
   "id": "3dec782c-1dc2-4e98-bae9-d20065592df8",
   "metadata": {},
   "outputs": [],
   "source": [
    "from lightgbm import LGBMRegressor\n",
    "from xgboost import XGBRegressor\n",
    "\n",
    "# get training data\n",
    "train, _ = get_housing(fetch_california_housing)\n",
    "\n",
    "# define objective function\n",
    "def objective(model:Any, **hp:Any) -> float:\n",
    "    model_ins = model(**hp)\n",
    "    x = train.iloc[:,:-1]\n",
    "    y = train.iloc[:,-1]\n",
    "    scores = cross_val_score(model_ins, x, y, cv=3, \n",
    "                             scoring=make_scorer(mean_absolute_percentage_error))\n",
    "    return scores.mean()\n",
    "\n",
    "# define search spaces\n",
    "xgb_space = Space(model=XGBRegressor, n_estimators=Grid(100, 200, 300))\n",
    "lgbm_space = Space(model=LGBMRegressor, n_estimators=RandInt(100, 300))"
   ]
  },
  {
   "cell_type": "code",
   "execution_count": 5,
   "id": "c7d648d4-a379-4af8-b4ca-6967831b178d",
   "metadata": {},
   "outputs": [
    {
     "name": "stdout",
     "output_type": "stream",
     "text": [
      "XGB Baseline: 0.18111303006212223\n",
      "LGBM Baseline 0.17842243141239011\n"
     ]
    }
   ],
   "source": [
    "# get baseline scores\n",
    "print(\"XGB Baseline:\", objective(XGBRegressor))\n",
    "print(\"LGBM Baseline\", objective(LGBMRegressor))"
   ]
  },
  {
   "cell_type": "markdown",
   "id": "c04409bd-5917-48f9-895a-445fbe725472",
   "metadata": {},
   "source": [
    "# Tuning\n",
    "\n",
    "1. Evaluate the objective function\n",
    "2. Over a hybrid search space\n",
    "3. Apply Hyperopt for Bayesian Optimization \n",
    "4. Run tuning jobs distributedly on Dask\n",
    "5. Track tuning result with wandb"
   ]
  },
  {
   "cell_type": "code",
   "execution_count": 6,
   "id": "d06fe31f-a2ad-429b-b468-7c98f745de1d",
   "metadata": {},
   "outputs": [
    {
     "name": "stderr",
     "output_type": "stream",
     "text": [
      "\u001b[34m\u001b[1mwandb\u001b[0m: \u001b[33mWARNING\u001b[0m If you're specifying your api key in code, ensure this code is not shared publicly.\n",
      "\u001b[34m\u001b[1mwandb\u001b[0m: \u001b[33mWARNING\u001b[0m Consider setting the WANDB_API_KEY environment variable, or running `wandb login` from the command line.\n",
      "\u001b[34m\u001b[1mwandb\u001b[0m: Appending key for api.wandb.ai to your netrc file: /home/jovyan/.netrc\n",
      "\u001b[34m\u001b[1mwandb\u001b[0m: \u001b[33mWARNING\u001b[0m If you're specifying your api key in code, ensure this code is not shared publicly.\n",
      "\u001b[34m\u001b[1mwandb\u001b[0m: \u001b[33mWARNING\u001b[0m Consider setting the WANDB_API_KEY environment variable, or running `wandb login` from the command line.\n",
      "\u001b[34m\u001b[1mwandb\u001b[0m: Appending key for api.wandb.ai to your netrc file: /home/jovyan/.netrc\n",
      "\u001b[34m\u001b[1mwandb\u001b[0m: \u001b[33mWARNING\u001b[0m If you're specifying your api key in code, ensure this code is not shared publicly.\n",
      "\u001b[34m\u001b[1mwandb\u001b[0m: \u001b[33mWARNING\u001b[0m Consider setting the WANDB_API_KEY environment variable, or running `wandb login` from the command line.\n",
      "\u001b[34m\u001b[1mwandb\u001b[0m: Appending key for api.wandb.ai to your netrc file: /home/jovyan/.netrc\n"
     ]
    }
   ],
   "source": [
    "from tune import suggest_for_noniterative_objective\n",
    "\n",
    "result = suggest_for_noniterative_objective(\n",
    "    objective,\n",
    "    xgb_space + lgbm_space,\n",
    "    local_optimizer = \"hyperopt:5\",\n",
    "    execution_engine = client,\n",
    "    logger = \"wandb:CA_housing_tuning_scipy\"\n",
    ")"
   ]
  },
  {
   "cell_type": "code",
   "execution_count": null,
   "id": "275650ce-566a-44f6-a71f-55dfe2f58eec",
   "metadata": {},
   "outputs": [],
   "source": [
    "result[0]"
   ]
  }
 ],
 "metadata": {
  "kernelspec": {
   "display_name": "Python 3 (ipykernel)",
   "language": "python",
   "name": "python3"
  },
  "language_info": {
   "codemirror_mode": {
    "name": "ipython",
    "version": 3
   },
   "file_extension": ".py",
   "mimetype": "text/x-python",
   "name": "python",
   "nbconvert_exporter": "python",
   "pygments_lexer": "ipython3",
   "version": "3.9.6"
  }
 },
 "nbformat": 4,
 "nbformat_minor": 5
}
