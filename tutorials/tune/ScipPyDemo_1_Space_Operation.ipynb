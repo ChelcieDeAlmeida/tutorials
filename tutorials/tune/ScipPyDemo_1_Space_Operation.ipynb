{
 "cells": [
  {
   "cell_type": "code",
   "execution_count": 1,
   "id": "a70fa1c4-99ab-456f-8276-df0c713b0eab",
   "metadata": {},
   "outputs": [],
   "source": [
    "from tune import Space, Grid, Rand, RandInt, Choice"
   ]
  },
  {
   "cell_type": "code",
   "execution_count": 2,
   "id": "c2e2db59-8626-438b-ba16-086fa6307fa6",
   "metadata": {},
   "outputs": [],
   "source": [
    "from lightgbm import LGBMRegressor\n",
    "from xgboost import XGBRegressor\n",
    "from catboost import CatBoostRegressor"
   ]
  },
  {
   "cell_type": "markdown",
   "id": "24b9458a-0471-421b-ab7c-2e98bc7cd2d4",
   "metadata": {},
   "source": [
    "# Example 1: Union Space\n",
    "\n",
    "`+` means take the union of the spaces"
   ]
  },
  {
   "cell_type": "code",
   "execution_count": 3,
   "id": "f4c1af40-1ff8-4f7f-a539-5ba9f28c5222",
   "metadata": {},
   "outputs": [
    {
     "data": {
      "text/plain": [
       "[{'model': <class 'xgboost.sklearn.XGBRegressor'>, 'n_estimatores': 50},\n",
       " {'model': <class 'xgboost.sklearn.XGBRegressor'>, 'n_estimatores': 150},\n",
       " {'model': <class 'lightgbm.sklearn.LGBMRegressor'>, 'n_estimatores': 100},\n",
       " {'model': <class 'lightgbm.sklearn.LGBMRegressor'>, 'n_estimatores': 146},\n",
       " {'model': <class 'lightgbm.sklearn.LGBMRegressor'>, 'n_estimatores': 148},\n",
       " {'model': <class 'catboost.core.CatBoostRegressor'>, 'n_estimatores': RandInt(low=100, high=200, q=1, log=False, include_high=True)}]"
      ]
     },
     "execution_count": 3,
     "metadata": {},
     "output_type": "execute_result"
    }
   ],
   "source": [
    "# use case: different tuning method on different modeling algorithms\n",
    "\n",
    "xgb_gird = Space(model=XGBRegressor, n_estimatores=Grid(50,150))  \n",
    "lgbm_random = Space(model=LGBMRegressor, n_estimatores=RandInt(100,200)).sample(3) \n",
    "catboost_bo = Space(model=CatBoostRegressor, n_estimatores=RandInt(100,200))  \n",
    "\n",
    "union_space = xgb_gird + lgbm_random + catboost_bo # \"+\" takes the union of spaces\n",
    "\n",
    "list(union_space)"
   ]
  },
  {
   "cell_type": "markdown",
   "id": "070c4b71-78f1-4d64-be54-a9b5639bb848",
   "metadata": {},
   "source": [
    "# Example 2: Cross Product Space\n",
    "\n",
    "`*` means take the cross product of the spaces"
   ]
  },
  {
   "cell_type": "code",
   "execution_count": 4,
   "id": "61788320-0559-4190-a4ef-b2d9c14f0dcf",
   "metadata": {},
   "outputs": [
    {
     "data": {
      "text/plain": [
       "[{'model': <class 'lightgbm.sklearn.LGBMRegressor'>, 'n_estimators': 100, 'boosting': 'dart', 'feature_fraction': 0.7744067519636624, 'learning_rate': Rand(low=1e-08, high=10, q=None, log=True, include_high=True)},\n",
       " {'model': <class 'lightgbm.sklearn.LGBMRegressor'>, 'n_estimators': 100, 'boosting': 'gbdt', 'feature_fraction': 0.7744067519636624, 'learning_rate': Rand(low=1e-08, high=10, q=None, log=True, include_high=True)},\n",
       " {'model': <class 'lightgbm.sklearn.LGBMRegressor'>, 'n_estimators': 100, 'boosting': 'dart', 'feature_fraction': 0.8575946831862098, 'learning_rate': Rand(low=1e-08, high=10, q=None, log=True, include_high=True)},\n",
       " {'model': <class 'lightgbm.sklearn.LGBMRegressor'>, 'n_estimators': 100, 'boosting': 'gbdt', 'feature_fraction': 0.8575946831862098, 'learning_rate': Rand(low=1e-08, high=10, q=None, log=True, include_high=True)}]"
      ]
     },
     "execution_count": 4,
     "metadata": {},
     "output_type": "execute_result"
    }
   ],
   "source": [
    "# use case: diffferent tuning method inside one modeling algorithm\n",
    "\n",
    "non_bo_space = Space(\n",
    "    model=LGBMRegressor, \n",
    "    n_estimators=100,\n",
    "    boosting=Grid(\"dart\", \"gbdt\"),    # Grid search\n",
    "    feature_fraction=Rand(0.5, 1)     # Random search\n",
    ").sample(2, seed=0) \n",
    "\n",
    "bo_space = Space(\n",
    "    learning_rate=Rand(1e-8, 10, log=True)  # Bayesian Optimization\n",
    ") \n",
    "\n",
    "product_space = non_bo_space * bo_space # \"+\" takes cross product of spaces\n",
    "\n",
    "list(product_space)"
   ]
  },
  {
   "cell_type": "markdown",
   "id": "ae82c2aa-aecd-4d04-953a-0090201b72d9",
   "metadata": {},
   "source": [
    "# Example 3: Construct Hybrid Search Space\n",
    "\n",
    "Now we can use these operators to construct any combination of searching spaces as desired."
   ]
  },
  {
   "cell_type": "code",
   "execution_count": 5,
   "id": "99be1691-ad38-48cf-8523-c3830318f95c",
   "metadata": {},
   "outputs": [
    {
     "data": {
      "text/plain": [
       "[{'model': <class 'xgboost.sklearn.XGBRegressor'>, 'n_estimatores': RandInt(low=100, high=200, q=1, log=False, include_high=True)},\n",
       " {'model': <class 'lightgbm.sklearn.LGBMRegressor'>, 'n_estimatores': RandInt(low=100, high=200, q=1, log=False, include_high=True)},\n",
       " {'model': <class 'catboost.core.CatBoostRegressor'>, 'n_estimatores': RandInt(low=100, high=200, q=1, log=False, include_high=True)}]"
      ]
     },
     "execution_count": 5,
     "metadata": {},
     "output_type": "execute_result"
    }
   ],
   "source": [
    "# use case: any kind of hybrid search spaces\n",
    "# e.g. tuning a common parameter on 3 modeling algorithms\n",
    "\n",
    "xgb_static = Space(model=XGBRegressor)\n",
    "lgb_static = Space(model=LGBMRegressor)\n",
    "catboost_static = Space(model=CatBoostRegressor)\n",
    "\n",
    "bo_space = Space(n_estimatores=RandInt(100,200)) # Bayesian Optimization on a common parameter\n",
    "\n",
    "hybrid_space = (xgb_static + lgb_static + catboost_static) * bo_space\n",
    "\n",
    "list(hybrid_space)"
   ]
  },
  {
   "cell_type": "code",
   "execution_count": null,
   "id": "0dec6c6c-4308-499f-b489-82de81e8f10b",
   "metadata": {},
   "outputs": [],
   "source": []
  },
  {
   "cell_type": "code",
   "execution_count": null,
   "id": "ef48a494-2cbc-4ea7-916b-f9cfccc9bac2",
   "metadata": {},
   "outputs": [],
   "source": []
  }
 ],
 "metadata": {
  "kernelspec": {
   "display_name": "Python 3 (ipykernel)",
   "language": "python",
   "name": "python3"
  },
  "language_info": {
   "codemirror_mode": {
    "name": "ipython",
    "version": 3
   },
   "file_extension": ".py",
   "mimetype": "text/x-python",
   "name": "python",
   "nbconvert_exporter": "python",
   "pygments_lexer": "ipython3",
   "version": "3.9.6"
  }
 },
 "nbformat": 4,
 "nbformat_minor": 5
}
