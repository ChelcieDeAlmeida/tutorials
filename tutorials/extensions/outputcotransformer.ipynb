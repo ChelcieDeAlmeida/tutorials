{
 "cells": [
  {
   "cell_type": "markdown",
   "source": [
    "# Output CoTransformer (Advanced)\n",
    "\n",
    "`OutputCoTransfomer` is similar to `CoTransformer`. And any `CoTransformer` can be used as `OutputCoTransformer`. It is important to understand the difference between the operations `cotransform` and `output_cotransform`.\n",
    "\n",
    "Remember that the syntax to use a cotran\n",
    "\n",
    "* `cotransform` is lazy meaning that Fugue does not ensure the compute immediately. For example, if using `SparkExecutionEngine`, the real compute of `cotransform` happens only when hitting an action, such as `print` or `save`.\n",
    "* `output_cotransform` is an action, Fugue ensures the compute happens immediately, regardless of what execution engine is used.\n",
    "* `cotransform` outputs a transformed dataframe for the following steps to use\n",
    "* `output_cotransform` is the last compute of a branch in the DAG, it outputs nothing.\n",
    "\n",
    "You may find that `transform().persist()` can be an alternative to `out_transform`, it's in general ok, but you must notice that, the output dataframe of a transformation can be very large, if you persist or checkpoint it, it can take up great portion of memory or disk space. In contrast, `out_transform` does not take any space. Plus, it is a more explicit way to show what you want to do.\n",
    "\n",
    "A typical use case is to distributedly compare two dataframes per partition\n",
    "\n",
    "\n",
    "## Native Approach"
   ],
   "metadata": {}
  },
  {
   "cell_type": "code",
   "execution_count": 1,
   "source": [
    "from typing import List, Any\n",
    "\n",
    "def assert_eq(df1:List[List[Any]], df2:List[List[Any]]) -> None:\n",
    "    assert df1 == df2\n",
    "    print(df1,\"==\",df2)\n",
    "\n",
    "# schema: a:int\n",
    "def assert_eq_2(df1:List[List[Any]], df2:List[List[Any]]) -> List[List[Any]]:\n",
    "    assert df1 == df2\n",
    "    print(df1,\"==\",df2)\n",
    "    return [[0]]"
   ],
   "outputs": [],
   "metadata": {}
  },
  {
   "cell_type": "code",
   "execution_count": 2,
   "source": [
    "from fugue import FugueWorkflow\n",
    "\n",
    "with FugueWorkflow() as dag:\n",
    "    df1 = dag.df([[0,1],[0,2],[1,3]], \"a:int,b:int\")\n",
    "    df2 = dag.df([[1,3],[0,2],[0,1]], \"a:int,b:int\")\n",
    "    z = df1.zip(df2, partition=dict(by=[\"a\"],presort=[\"b\"]))\n",
    "    z.out_transform(assert_eq)\n",
    "    z.out_transform(assert_eq_2) # All CoTransformer like functions/classes can be used directly"
   ],
   "outputs": [
    {
     "output_type": "stream",
     "name": "stdout",
     "text": [
      "[[0, 1], [0, 2]] == [[0, 1], [0, 2]]\n",
      "[[1, 3]] == [[1, 3]]\n",
      "[[0, 1], [0, 2]] == [[0, 1], [0, 2]]\n",
      "[[1, 3]] == [[1, 3]]\n"
     ]
    }
   ],
   "metadata": {}
  },
  {
   "cell_type": "markdown",
   "source": [
    "## Decorator Approach\n",
    "\n",
    "There is no obvious advantage to use decorator for `OutputCoTransformer`"
   ],
   "metadata": {}
  },
  {
   "cell_type": "code",
   "execution_count": 3,
   "source": [
    "from typing import List, Any\n",
    "from fugue.extensions import output_cotransformer\n",
    "from fugue import FugueWorkflow\n",
    "\n",
    "@output_cotransformer()\n",
    "def assert_eq(df1:List[List[Any]], df2:List[List[Any]]) -> None:\n",
    "    assert df1 == df2\n",
    "    print(df1,\"==\",df2)\n",
    "    \n",
    "with FugueWorkflow() as dag:\n",
    "    df1 = dag.df([[0,1],[0,2],[1,3]], \"a:int,b:int\")\n",
    "    df2 = dag.df([[1,3],[0,2],[0,1]], \"a:int,b:int\")\n",
    "    z = df1.zip(df2, partition=dict(by=[\"a\"],presort=[\"b\"]))\n",
    "    z.out_transform(assert_eq)"
   ],
   "outputs": [
    {
     "output_type": "stream",
     "name": "stdout",
     "text": [
      "[[0, 1], [0, 2]] == [[0, 1], [0, 2]]\n",
      "[[1, 3]] == [[1, 3]]\n"
     ]
    }
   ],
   "metadata": {}
  },
  {
   "cell_type": "markdown",
   "source": [
    "## Interface Approach\n",
    "\n",
    "Just like the interface approach of `CoTransformer`, you get all the flexibilities and control over your transformation"
   ],
   "metadata": {}
  },
  {
   "cell_type": "code",
   "execution_count": 4,
   "source": [
    "from typing import List, Any\n",
    "from fugue.extensions import OutputCoTransformer\n",
    "from fugue import FugueWorkflow\n",
    "\n",
    "class AssertEQ(OutputCoTransformer):\n",
    "    # notice the interface is different from CoTransformer\n",
    "    def process(self, dfs):\n",
    "        df1, df2 = dfs[0].as_array(), dfs[1].as_array()\n",
    "        assert df1 == df2\n",
    "        print(df1,\"==\",df2)\n",
    "\n",
    "with FugueWorkflow() as dag:\n",
    "    df1 = dag.df([[0,1],[0,2],[1,3]], \"a:int,b:int\")\n",
    "    df2 = dag.df([[1,3],[0,2],[0,1]], \"a:int,b:int\")\n",
    "    z = df1.zip(df2, partition=dict(by=[\"a\"],presort=[\"b\"]))\n",
    "    z.out_transform(AssertEQ)"
   ],
   "outputs": [
    {
     "output_type": "stream",
     "name": "stdout",
     "text": [
      "[[0, 1], [0, 2]] == [[0, 1], [0, 2]]\n",
      "[[1, 3]] == [[1, 3]]\n"
     ]
    }
   ],
   "metadata": {}
  }
 ],
 "metadata": {
  "kernelspec": {
   "name": "python3",
   "display_name": "Python 3.7.9 64-bit"
  },
  "language_info": {
   "codemirror_mode": {
    "name": "ipython",
    "version": 3
   },
   "file_extension": ".py",
   "mimetype": "text/x-python",
   "name": "python",
   "nbconvert_exporter": "python",
   "pygments_lexer": "ipython3",
   "version": "3.7.9"
  },
  "interpreter": {
   "hash": "4cd7ab41f5fca4b9b44701077e38c5ffd31fe66a6cab21e0214b68d958d0e462"
  }
 },
 "nbformat": 4,
 "nbformat_minor": 4
}