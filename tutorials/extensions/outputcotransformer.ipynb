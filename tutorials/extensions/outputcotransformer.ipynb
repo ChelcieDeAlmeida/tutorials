{
 "cells": [
  {
   "cell_type": "markdown",
   "metadata": {},
   "source": [
    "# Output CoTransformer (Advanced)\n",
    "\n",
    "`OutputCoTransfomer` is in general similar to `CoTransformer`. And any `CoTransformer` can be used as `OutputCoTransformer`. It is important to understand the difference between the operations `transform` and `out_transform`\n",
    "\n",
    "* `transform` is lazy, Fugue does not ensure the compute immediately. For example, if using `SparkExecutionEngine`, the real compute of `transform` happens only when hitting an action, for example `save`.\n",
    "* `out_transform` is an action, Fugue ensures the compute happening immediately, regardless of what execution engine is used.\n",
    "* `transform` outputs a transformed dataframe for the following steps to use\n",
    "* `out_transform` is the last compute of a branch in the DAG, it outputs nothing.\n",
    "\n",
    "You may find that `transform().persist()` can be an alternative to `out_transform`, it's in general ok, but you must notice that, the output dataframe of a transformation can be very large, if you persist or checkpoint it, it can take up great portion of memory or disk space. In contrast, `out_transform` does not take any space. Plus, it is a more explicit way to show what you want to do.\n",
    "\n",
    "A typical use case is to distributedly compare two dataframes per partition\n",
    "\n",
    "\n",
    "## Native Approach"
   ]
  },
  {
   "cell_type": "code",
   "execution_count": null,
   "metadata": {},
   "outputs": [],
   "source": [
    "from typing import List, Any\n",
    "\n",
    "def assert_eq(df1:List[List[Any]], df2:List[List[Any]]) -> None:\n",
    "    assert df1 == df2\n",
    "    print(df1,\"==\",df2)\n",
    "\n",
    "# schema: a:int\n",
    "def assert_eq_2(df1:List[List[Any]], df2:List[List[Any]]) -> List[List[Any]]:\n",
    "    assert df1 == df2\n",
    "    print(df1,\"==\",df2)\n",
    "    return [[0]]"
   ]
  },
  {
   "cell_type": "code",
   "execution_count": null,
   "metadata": {},
   "outputs": [],
   "source": [
    "from fugue import FugueWorkflow\n",
    "\n",
    "with FugueWorkflow() as dag:\n",
    "    df1 = dag.df([[0,1],[0,2],[1,3]], \"a:int,b:int\")\n",
    "    df2 = dag.df([[1,3],[0,2],[0,1]], \"a:int,b:int\")\n",
    "    z = df1.zip(df2, partition=dict(by=[\"a\"],presort=[\"b\"]))\n",
    "    z.out_transform(assert_eq)\n",
    "    z.out_transform(assert_eq_2) # All CoTransformer like functions/classes can be used directly"
   ]
  },
  {
   "cell_type": "markdown",
   "metadata": {},
   "source": [
    "## Decorator Approach\n",
    "\n",
    "There is no obvious advantage to use decorator for `OutputCoTransformer`"
   ]
  },
  {
   "cell_type": "code",
   "execution_count": null,
   "metadata": {},
   "outputs": [],
   "source": [
    "from typing import List, Any\n",
    "from fugue.extensions import output_cotransformer\n",
    "from fugue import FugueWorkflow\n",
    "\n",
    "@output_cotransformer()\n",
    "def assert_eq(df1:List[List[Any]], df2:List[List[Any]]) -> None:\n",
    "    assert df1 == df2\n",
    "    print(df1,\"==\",df2)\n",
    "    \n",
    "with FugueWorkflow() as dag:\n",
    "    df1 = dag.df([[0,1],[0,2],[1,3]], \"a:int,b:int\")\n",
    "    df2 = dag.df([[1,3],[0,2],[0,1]], \"a:int,b:int\")\n",
    "    z = df1.zip(df2, partition=dict(by=[\"a\"],presort=[\"b\"]))\n",
    "    z.out_transform(assert_eq)"
   ]
  },
  {
   "cell_type": "markdown",
   "metadata": {},
   "source": [
    "## Interface Approach\n",
    "\n",
    "Just like the interface approach of `CoTransformer`, you get all the flexibilities and control over your transformation"
   ]
  },
  {
   "cell_type": "code",
   "execution_count": null,
   "metadata": {},
   "outputs": [],
   "source": [
    "from typing import List, Any\n",
    "from fugue.extensions import OutputCoTransformer\n",
    "from fugue import FugueWorkflow\n",
    "\n",
    "class AssertEQ(OutputCoTransformer):\n",
    "    # notice the interface is different from CoTransformer\n",
    "    def process(self, dfs):\n",
    "        df1, df2 = dfs[0].as_array(), dfs[1].as_array()\n",
    "        assert df1 == df2\n",
    "        print(df1,\"==\",df2)\n",
    "\n",
    "with FugueWorkflow() as dag:\n",
    "    df1 = dag.df([[0,1],[0,2],[1,3]], \"a:int,b:int\")\n",
    "    df2 = dag.df([[1,3],[0,2],[0,1]], \"a:int,b:int\")\n",
    "    z = df1.zip(df2, partition=dict(by=[\"a\"],presort=[\"b\"]))\n",
    "    z.out_transform(AssertEQ)"
   ]
  }
 ],
 "metadata": {
  "kernelspec": {
   "display_name": "Python 3",
   "language": "python",
   "name": "python3"
  },
  "language_info": {
   "codemirror_mode": {
    "name": "ipython",
    "version": 3
   },
   "file_extension": ".py",
   "mimetype": "text/x-python",
   "name": "python",
   "nbconvert_exporter": "python",
   "pygments_lexer": "ipython3",
   "version": "3.7.9"
  }
 },
 "nbformat": 4,
 "nbformat_minor": 4
}