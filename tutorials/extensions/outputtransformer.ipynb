{
 "cells": [
  {
   "cell_type": "markdown",
   "metadata": {},
   "source": [
    "# Output Transformer (Advanced)\n",
    "\n",
    "`OutputTransfomer` is in general similar to `Transformer`. And any `Transformer` can be used as `OutputTransformer`. It is important to understand the difference between the operations `transform` and `out_transform`\n",
    "\n",
    "* `transform` is lazy, Fugue does not ensure the compute immediately. For example, if using `SparkExecutionEngine`, the real compute of `transform` happens only when hitting an action, for example `save`.\n",
    "* `out_transform` is an action, Fugue ensures the compute happening immediately, regardless of what execution engine is used.\n",
    "* `transform` outputs a transformed dataframe for the following steps to use\n",
    "* `out_transform` is the last compute of a branch in the DAG, it outputs nothing.\n",
    "\n",
    "You may find that `transform().persist()` can be an alternative to `out_transform`, it's in general ok, but you must notice that, the output dataframe of a transformation can be very large, if you persist or checkpoint it, it can take up great portion of memory or disk space. In contrast, `out_transform` does not take any space. Plus, it is a more explicit way to show what you want to do.\n",
    "\n",
    "A typical use case of output_transform is to save the dataframe in a custom way, for example, pushing to redis.\n",
    "\n",
    "\n",
    "## Native Approach"
   ]
  },
  {
   "cell_type": "code",
   "execution_count": 1,
   "metadata": {},
   "outputs": [],
   "source": [
    "from typing import Iterable, Dict, Any, List\n",
    "import pandas as pd\n",
    "\n",
    "# schema: *\n",
    "def push_to_redis_1(df:Iterable[Dict[str,Any]]) -> Iterable[Dict[str,Any]]:\n",
    "    for row in df:\n",
    "        print(\"pushing1\", row)\n",
    "        yield row\n",
    "\n",
    "def push_to_redis_2(df:Iterable[Dict[str,Any]]) -> None:\n",
    "    for row in df:\n",
    "        print(\"pushing2\", row)\n",
    "        continue"
   ]
  },
  {
   "cell_type": "code",
   "execution_count": 2,
   "metadata": {},
   "outputs": [
    {
     "name": "stdout",
     "output_type": "stream",
     "text": [
      "pushing1 {'a': 0, 'b': 1}\n",
      "pushing1 {'a': 0, 'b': 2}\n",
      "pushing1 {'a': 1, 'b': 3}\n",
      "pushing1 {'a': 1, 'b': 1}\n",
      "pushing1 {'a': 0, 'b': 1}\n",
      "pushing1 {'a': 0, 'b': 2}\n",
      "pushing1 {'a': 1, 'b': 1}\n",
      "pushing1 {'a': 1, 'b': 3}\n",
      "pushing2 {'a': 0, 'b': 1}\n",
      "pushing2 {'a': 0, 'b': 2}\n",
      "pushing2 {'a': 1, 'b': 3}\n",
      "pushing2 {'a': 1, 'b': 1}\n",
      "pushing2 {'a': 0, 'b': 1}\n",
      "pushing2 {'a': 0, 'b': 2}\n",
      "pushing2 {'a': 1, 'b': 1}\n",
      "pushing2 {'a': 1, 'b': 3}\n"
     ]
    }
   ],
   "source": [
    "from fugue import FugueWorkflow\n",
    "\n",
    "with FugueWorkflow() as dag:\n",
    "    df = dag.df([[0,1],[0,2],[1,3],[1,1]],\"a:int,b:int\")\n",
    "    # push_to_redis_1 is a typical transformer, it can be used directly\n",
    "    # even the output is an iterable, it's guaranteed to go through the entire iteration\n",
    "    # even push_to_redis_1 has no schema hint, it's still ok to be used by out_transform\n",
    "    df.out_transform(push_to_redis_1)\n",
    "    df.partition(by=[\"a\"], presort=\"b\").out_transform(push_to_redis_1)\n",
    "    # push_to_redis_2 returns nothing, and you can directly use it, without any additional hint\n",
    "    df.out_transform(push_to_redis_2)\n",
    "    df.partition(by=[\"a\"], presort=\"b\").out_transform(push_to_redis_2)"
   ]
  },
  {
   "cell_type": "markdown",
   "metadata": {},
   "source": [
    "## Decorator Approach\n",
    "\n",
    "There is no obvious advantage to use decorator for `OutputTransformer`"
   ]
  },
  {
   "cell_type": "code",
   "execution_count": 3,
   "metadata": {},
   "outputs": [
    {
     "name": "stdout",
     "output_type": "stream",
     "text": [
      "pushing1 {'a': 0, 'b': 1}\n",
      "pushing1 {'a': 0, 'b': 2}\n",
      "pushing1 {'a': 1, 'b': 3}\n",
      "pushing1 {'a': 1, 'b': 1}\n",
      "pushing1 {'a': 0, 'b': 1}\n",
      "pushing1 {'a': 0, 'b': 2}\n",
      "pushing1 {'a': 1, 'b': 1}\n",
      "pushing1 {'a': 1, 'b': 3}\n",
      "pushing2 {'a': 0, 'b': 1}\n",
      "pushing2 {'a': 0, 'b': 2}\n",
      "pushing2 {'a': 1, 'b': 3}\n",
      "pushing2 {'a': 1, 'b': 1}\n",
      "pushing2 {'a': 0, 'b': 1}\n",
      "pushing2 {'a': 0, 'b': 2}\n",
      "pushing2 {'a': 1, 'b': 1}\n",
      "pushing2 {'a': 1, 'b': 3}\n"
     ]
    }
   ],
   "source": [
    "from typing import Iterable, Dict, Any, List\n",
    "import pandas as pd\n",
    "\n",
    "from fugue.extensions import output_transformer, transformer\n",
    "from fugue import FugueWorkflow\n",
    "\n",
    "@transformer(\"*\")\n",
    "def push_to_redis_1(df:Iterable[Dict[str,Any]]) -> Iterable[Dict[str,Any]]:\n",
    "    for row in df:\n",
    "        print(\"pushing1\", row)\n",
    "        yield row\n",
    "\n",
    "@output_transformer()\n",
    "def push_to_redis_2(df:Iterable[Dict[str,Any]]) -> None:\n",
    "    for row in df:\n",
    "        print(\"pushing2\", row)\n",
    "        continue\n",
    "        \n",
    "with FugueWorkflow() as dag:\n",
    "    df = dag.df([[0,1],[0,2],[1,3],[1,1]],\"a:int,b:int\")\n",
    "    df.out_transform(push_to_redis_1)\n",
    "    df.partition(by=[\"a\"], presort=\"b\").out_transform(push_to_redis_1)\n",
    "    df.out_transform(push_to_redis_2)\n",
    "    df.partition(by=[\"a\"], presort=\"b\").out_transform(push_to_redis_2)"
   ]
  },
  {
   "cell_type": "markdown",
   "metadata": {},
   "source": [
    "## Interface Approach\n",
    "\n",
    "Just like the interface approach of `Transformer`, you get all the flexibilities and control over your transformation"
   ]
  },
  {
   "cell_type": "code",
   "execution_count": 4,
   "metadata": {},
   "outputs": [
    {
     "name": "stdout",
     "output_type": "stream",
     "text": [
      "pushing1 {}\n",
      "pushing1 {'a': 0}\n",
      "pushing1 {'a': 1}\n",
      "pushing2 {}\n",
      "pushing2 {'a': 0}\n",
      "pushing2 {'a': 1}\n"
     ]
    }
   ],
   "source": [
    "from typing import Iterable, Dict, Any, List\n",
    "import pandas as pd\n",
    "\n",
    "from fugue.extensions import Transformer, OutputTransformer\n",
    "from fugue import FugueWorkflow\n",
    "\n",
    "class Push1(Transformer):\n",
    "    def get_output_schema(self, df):\n",
    "        return df.schema\n",
    "    \n",
    "    def transform(self, df):\n",
    "        print(\"pushing1\", self.cursor.key_value_dict)\n",
    "        return df\n",
    "    \n",
    "    \n",
    "class Push2(OutputTransformer):\n",
    "    # Notice OutputTransformer has different interface\n",
    "    def process(self, df):\n",
    "        print(\"pushing2\", self.cursor.key_value_dict)\n",
    "        \n",
    "with FugueWorkflow() as dag:\n",
    "    df = dag.df([[0,1],[0,2],[1,3],[1,1]],\"a:int,b:int\")\n",
    "    df.out_transform(Push1)\n",
    "    df.partition(by=[\"a\"], presort=\"b\").out_transform(Push1)\n",
    "    df.out_transform(Push2)\n",
    "    df.partition(by=[\"a\"], presort=\"b\").out_transform(Push2)  "
   ]
  }
 ],
 "metadata": {
  "kernelspec": {
   "display_name": "Python 3.7.9 64-bit ('fugue-tutorials': conda)",
   "metadata": {
    "interpreter": {
     "hash": "131b24c7e1bb8763ab2b04d5b6d98a68c7b3a823a2a57c5722935f7690890f70"
    }
   },
   "name": "python3"
  },
  "language_info": {
   "codemirror_mode": {
    "name": "ipython",
    "version": 3
   },
   "file_extension": ".py",
   "mimetype": "text/x-python",
   "name": "python",
   "nbconvert_exporter": "python",
   "pygments_lexer": "ipython3",
   "version": "3.7.9"
  },
  "orig_nbformat": 2
 },
 "nbformat": 4,
 "nbformat_minor": 2
}